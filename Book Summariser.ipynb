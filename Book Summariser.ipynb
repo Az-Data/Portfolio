{
  "cells": [
    {
      "cell_type": "markdown",
      "metadata": {
        "id": "view-in-github",
        "colab_type": "text"
      },
      "source": [
        "<a href=\"https://colab.research.google.com/github/Az-Data/Portfolio/blob/master/Book%20Summariser.ipynb\" target=\"_parent\"><img src=\"https://colab.research.google.com/assets/colab-badge.svg\" alt=\"Open In Colab\"/></a>"
      ]
    },
    {
      "cell_type": "markdown",
      "metadata": {
        "id": "oAA5jQ6sls3u"
      },
      "source": [
        "# Book Summariser\n",
        "\n",
        "I am part of a book club, and I wanted the ability to go back and review books I've already read and question the text.\n",
        "Example use would be to find out:\n",
        "- What themes were prominent in the book?\n",
        "- What would be some open ended questions that can drive discussion about aspects about this book?\n",
        "- Get a description of all the main characters in the book.\n"
      ]
    },
    {
      "cell_type": "markdown",
      "metadata": {
        "id": "aFziwAlTls3z"
      },
      "source": [
        "I am having trouble uploading a file to the genai api, when I run this notebook locally. I haven't been able to figure out what the issue is (kernel crashes when using the upload_to_gemini function).\n",
        "I am able to run the notebook fine as a Google Colab notebook.\n",
        "If you are running this notebook in Colab, you will need to upload the following to the Colab session storage:\n",
        "- .env file that contains your Gemini API key"
      ]
    },
    {
      "cell_type": "markdown",
      "source": [
        "# Setup"
      ],
      "metadata": {
        "id": "sGaU_UhTNJor"
      }
    },
    {
      "cell_type": "code",
      "source": [
        "import requests\n",
        "import os\n",
        "import runpy\n",
        "\n",
        "url = \"https://raw.githubusercontent.com/Az-Data/Portfolio/master/utilities.py\"\n",
        "file_name = \"utilities.py\"  # Name to save the file locally\n",
        "\n",
        "# Download the utilites setup file\n",
        "response = requests.get(url)\n",
        "if response.status_code == 200:\n",
        "    with open(file_name, \"wb\") as f:\n",
        "        f.write(response.content)\n",
        "    print(f\"{file_name} downloaded successfully.\")\n",
        "else:\n",
        "    print(\"Failed to download the file.\")"
      ],
      "metadata": {
        "id": "wY5Zg8u7NHSC",
        "outputId": "dd0cdb59-9966-4306-d9b1-d452bec192b7",
        "colab": {
          "base_uri": "https://localhost:8080/"
        }
      },
      "execution_count": null,
      "outputs": [
        {
          "output_type": "stream",
          "name": "stdout",
          "text": [
            "utilities.py downloaded successfully.\n"
          ]
        }
      ]
    },
    {
      "cell_type": "code",
      "execution_count": null,
      "metadata": {
        "id": "0OPvFS9NmGrR"
      },
      "outputs": [],
      "source": [
        "# Run this cell if you are running this notebook in Google Colab\n",
        "# (comment out the %%capture and the !pip lines if you are not)\n",
        "%%capture\n",
        "%run utilities.py\n",
        "!pip install python-dotenv EbookLib"
      ]
    },
    {
      "cell_type": "markdown",
      "source": [
        "# Execution"
      ],
      "metadata": {
        "id": "u_QcigWgNSxJ"
      }
    },
    {
      "cell_type": "code",
      "execution_count": null,
      "metadata": {
        "id": "a41wf5lNls30"
      },
      "outputs": [],
      "source": [
        "import os\n",
        "import google.generativeai as genai\n",
        "from dotenv import load_dotenv, find_dotenv\n",
        "import zipfile\n",
        "import ebooklib\n",
        "from ebooklib import epub\n",
        "from bs4 import BeautifulSoup\n",
        "import mimetypes\n",
        "import time\n",
        "\n",
        "load_dotenv(find_dotenv())\n",
        "genai.configure(api_key=os.environ.get('GEMINI_API_KEY'))"
      ]
    },
    {
      "cell_type": "code",
      "execution_count": null,
      "metadata": {
        "id": "Mo7eqp20ls36"
      },
      "outputs": [],
      "source": [
        "\n",
        "\n",
        "def upload_to_gemini(path, mime_type=None):\n",
        "  \"\"\"Uploads the given file to Gemini.\n",
        "\n",
        "  \"\"\"\n",
        "  file = genai.upload_file(path, mime_type=mime_type)\n",
        "  print(f\"Uploaded file '{file.display_name}' as: {file.uri}\")\n",
        "  return file\n",
        "\n",
        "\n",
        "\n",
        "def clear_uploaded_files():\n",
        "    \"\"\"\n",
        "    Clears all uploaded files from the current Gemini session.\n",
        "    \"\"\"\n",
        "    uploaded_files = genai.list_files()\n",
        "    for file in uploaded_files:\n",
        "        try:\n",
        "            genai.delete_file(file.name)\n",
        "            print(f\"Deleted file: {file.display_name}\")\n",
        "        except Exception as e:\n",
        "            print(f\"Error deleting file {file.display_name}: {e}\")\n",
        "\n",
        "    print(\"All uploaded files have been cleared.\")\n",
        "\n",
        "\n",
        "\n",
        "def display_uploaded_files():\n",
        "    \"\"\"\n",
        "    Displays the names of all uploaded files in the current Gemini session.\n",
        "    \"\"\"\n",
        "    uploaded_files = genai.list_files()\n",
        "    if uploaded_files:\n",
        "        print(\"Uploaded files:\")\n",
        "        for file in uploaded_files:\n",
        "            print(f\"- {file.display_name}\")\n",
        "    else:\n",
        "        print(\"No files have been uploaded yet.\")\n",
        "\n",
        "\n",
        "# Create the model\n",
        "generation_config = {\n",
        "  \"temperature\": 1,\n",
        "  \"top_p\": 0.95,\n",
        "  \"top_k\": 40,\n",
        "  \"max_output_tokens\": 32768,\n",
        "  \"response_mime_type\": \"text/plain\",\n",
        "}\n",
        "\n",
        "model = genai.GenerativeModel(\n",
        "  model_name=\"gemini-1.5-pro\",\n",
        "  generation_config=generation_config,\n",
        ")\n",
        "\n"
      ]
    },
    {
      "cell_type": "code",
      "execution_count": null,
      "metadata": {
        "colab": {
          "base_uri": "https://localhost:8080/",
          "height": 34
        },
        "id": "JRVviHHmrIdm",
        "outputId": "d061a116-fccc-4b54-a35f-e2b5bb354e4e"
      },
      "outputs": [
        {
          "output_type": "stream",
          "name": "stdout",
          "text": [
            "Uploaded file 'Frankenstein.txt' as: https://generativelanguage.googleapis.com/v1beta/files/poo09sc8zerl\n"
          ]
        }
      ],
      "source": [
        "# You may need to update the file paths\n",
        "up_file = upload_to_gemini(r\"Data/Frankenstein.txt\", mime_type=\"text/plain\")\n"
      ]
    },
    {
      "cell_type": "code",
      "execution_count": null,
      "metadata": {
        "colab": {
          "base_uri": "https://localhost:8080/",
          "height": 176
        },
        "id": "PpA0_ex1-0F5",
        "outputId": "6f7404e9-db31-43fd-c43e-50d158aa4309"
      },
      "outputs": [
        {
          "output_type": "stream",
          "name": "stdout",
          "text": [
            "*Frankenstein* by Mary Shelley tells the story of Victor Frankenstein, a brilliant young scientist obsessed with discovering the secret of life. While studying at Ingolstadt University, he succeeds in animating a grotesque creature assembled from various body parts. Horrified by his creation, Victor abandons it.  The creature, abandoned and alone, learns language and basic human interaction by secretly observing a family of cottagers. However, due to his monstrous appearance, he is rejected and becomes embittered, vowing revenge on his creator.\n",
            "\n",
            "The creature demands that Victor create a female companion for him, promising to disappear with her into the wilderness of South America and never trouble humanity again. Victor initially agrees, fearing for the safety of his loved ones. However, he is tormented by the idea of a race of monsters being created and destroys the female companion before completing it.  Enraged, the creature murders Victor's younger brother, William, and frames the family servant, Justine Moritz, who is subsequently executed.\n",
            "\n",
            "Driven by grief and guilt, Victor retreats to the mountains seeking solace, but encounters his creation, who reiterates his demand. Victor refuses and returns home, where he marries his cousin Elizabeth. However, on their wedding night, the creature fulfills his promise of revenge, murdering Elizabeth.  Consumed by grief and a burning desire for revenge, Victor dedicates his life to hunting down the monster, pursuing him across various landscapes, eventually reaching the Arctic.\n",
            "\n",
            "Victor's pursuit weakens him, and he is rescued by Captain Walton, who is on an expedition to the North Pole. Victor recounts his story to Walton and dies shortly after. Walton then encounters the creature, mourning over Victor's body. The creature expresses remorse for his actions but also blames Victor for his misery. He vows to end his own life by setting himself on fire on a remote ice floe, disappearing from human sight forever.\n",
            "\n"
          ]
        }
      ],
      "source": [
        "response = model.generate_content([\"Give me a summary of this book\", up_file])\n",
        "print(response.text)"
      ]
    },
    {
      "cell_type": "code",
      "execution_count": null,
      "metadata": {
        "colab": {
          "base_uri": "https://localhost:8080/",
          "height": 349
        },
        "id": "gThj2SH9Elk2",
        "outputId": "922a8c1c-0f73-47ab-e279-a8a4186037ee"
      },
      "outputs": [
        {
          "output_type": "stream",
          "name": "stdout",
          "text": [
            "Mary Shelley's *Frankenstein* explores several prominent themes:\n",
            "\n",
            "* **Creation and Responsibility:** This is arguably the central theme. Victor Frankenstein creates life, but then abandons his creation, refusing to take responsibility for its well-being. This leads to disastrous consequences, highlighting the ethical implications of scientific advancement and the responsibilities that come with creating life, whether natural or artificial.  The novel questions the limits of human ambition and the dangers of playing God.\n",
            "\n",
            "* **Nature vs. Nurture:** The creature is born innocent, but society's rejection and Victor's abandonment turn it into a monster. This explores the question of whether inherent nature or upbringing and environment are more influential in shaping an individual's character.\n",
            "\n",
            "* **Isolation and Loneliness:** Both Victor and the creature suffer from profound loneliness. Victor isolates himself from his family and friends to pursue his scientific ambitions and later to deal with the consequences. The creature, rejected by society due to its appearance, longs for connection and companionship but is met only with fear and hostility. This emphasizes the human need for connection and the devastating effects of isolation.\n",
            "\n",
            "* **Prejudice and Injustice:** The creature is judged solely on its appearance and treated with cruelty and injustice. This highlights the dangers of prejudice and the importance of looking beyond superficial appearances.\n",
            "\n",
            "* **Revenge:**  Driven by anger and a sense of injustice, the creature seeks revenge on its creator.  Victor, in turn, dedicates himself to hunting down and destroying his creation. This cycle of revenge demonstrates its destructive nature and how it consumes those who embrace it.\n",
            "\n",
            "* **The Sublime Power of Nature:** The natural world, especially the Alps, offers Victor moments of peace and solace, contrasting with the darkness of his actions.  Descriptions of sublime landscapes emphasize the power and beauty of nature and its ability to both inspire and console.\n",
            "\n",
            "* **Loss and Grief:**  The novel is punctuated by loss and the overwhelming grief it brings.  Victor experiences the deaths of his loved ones, while the creature endures the pain of rejection and isolation. This underscores the fragility of human life and the profound impact of loss.\n",
            "\n",
            "* **Ambition and its Limits:** Victor's ambition to transcend the limits of human knowledge leads to his downfall. This warns against unchecked ambition and the dangers of pursuing knowledge without considering the ethical implications.\n",
            "\n"
          ]
        }
      ],
      "source": [
        "response = model.generate_content([\"What themes were prominent in the book?\", up_file])\n",
        "print(response.text)"
      ]
    },
    {
      "cell_type": "code",
      "execution_count": null,
      "metadata": {
        "colab": {
          "base_uri": "https://localhost:8080/",
          "height": 645
        },
        "id": "0LTAiXO1rDYK",
        "outputId": "0b36a7db-51f6-4f16-b67e-07a04774f938"
      },
      "outputs": [
        {
          "output_type": "stream",
          "name": "stdout",
          "text": [
            "Here are some open-ended questions to drive discussion about various aspects of *Frankenstein*:\n",
            "\n",
            "**Creation and Responsibility:**\n",
            "\n",
            "* Victor Frankenstein brings a creature to life, then abandons it.  What are his responsibilities to his creation?  Where does he go wrong? Are there any situations where a creator is justified in abandoning their creation?\n",
            "* The creature argues that Victor owes him happiness.  Do you agree? What constitutes the \"duty of a creator\"?  How far does that duty extend?\n",
            "* Explore the idea of nature vs. nurture in the novel. How much of the creature's behavior is a result of his inherent nature, and how much is shaped by his experiences?  How much free will does the creature really possess?\n",
            "\n",
            "**Nature of Humanity:**\n",
            "\n",
            "* The creature is initially innocent but becomes monstrous. What causes this transformation? What does the novel suggest about the nature of good and evil?\n",
            "* What role does society play in shaping the creature's fate?  How do the reactions of others impact his development? How does the novel comment on prejudice and fear of the unknown?\n",
            "* What does *Frankenstein* say about the limits of human ambition and the pursuit of knowledge? Is there knowledge that is too dangerous to acquire? Does the novel offer any alternatives to a purely scientific worldview?\n",
            "* The creature reads *Paradise Lost*, *Plutarch's Lives*, and *The Sorrows of Werter*. How do these books shape his understanding of humanity and his own place in the world?  If you could add another book to his reading list, to potentially give him a different perspective, which book would it be and why?\n",
            "\n",
            "**Justice and Revenge:**\n",
            "\n",
            "* The creature demands a mate as a matter of justice. Is his request justified? What would be a just outcome for both Victor and the creature?\n",
            "* Victor dedicates himself to revenge. Is revenge ever justified? How does his pursuit of revenge affect him and those around him?  What is the novel's overall stance on revenge?\n",
            "* Consider the different kinds of justice explored in the novel: legal justice (Justine's trial), divine justice (Victor's suffering), and personal justice (the creature's revenge). How effective are these different forms of justice?  Do they lead to satisfactory outcomes?\n",
            "\n",
            "**Isolation and Connection:**\n",
            "\n",
            "* Both Victor and the creature experience profound isolation. How do their experiences of isolation compare and contrast?  What role does isolation play in their respective downfalls?  How does the novel portray the importance of human connection?\n",
            "* Victor often isolates himself from his family and friends. What motivates this behavior? What are the consequences of his isolation?\n",
            "* The creature longs for acceptance and connection. What are the obstacles that prevent him from forming meaningful relationships?\n",
            "\n",
            "**Narrative and Perspective:**\n",
            "\n",
            "* The novel uses a frame narrative structure (Walton's letters, Victor's story, the creature's story). What is the effect of this layered storytelling? How does it shape our understanding of the characters and events?\n",
            "* Whose story do you find most compelling: Victor's or the creature's?  Why?  How does the novel challenge our sympathies?\n",
            "* How reliable are the different narrators? Do their perspectives shape or bias the story in any way? How would the story be different if told solely from the creature's point of view?\n",
            "\n",
            "These open-ended questions encourage readers to explore the complexities of *Frankenstein* and to engage in thoughtful discussions about its enduring themes. Remember to encourage textual evidence and personal interpretation in the discussion.\n",
            "\n"
          ]
        }
      ],
      "source": [
        "response = model.generate_content([\"What would be some open ended questions that can drive discussion about aspects about this book?\", up_file])\n",
        "print(response.text)\n"
      ]
    },
    {
      "cell_type": "code",
      "execution_count": null,
      "metadata": {
        "colab": {
          "base_uri": "https://localhost:8080/",
          "height": 627
        },
        "id": "JUMnHXywHVwI",
        "outputId": "02afeb01-dc8e-4a47-cf36-c560f403f367"
      },
      "outputs": [
        {
          "output_type": "stream",
          "name": "stdout",
          "text": [
            "Here's a list of characters in Frankenstein, ordered by importance and with descriptions:\n",
            "\n",
            "1. **Victor Frankenstein:** The protagonist. A young, ambitious scientist from Geneva, obsessed with discovering the secret of life. He creates a monstrous being but abandons it in horror. Victor is consumed by guilt and fear as the creature wreaks havoc on his life and the lives of his loved ones. He dedicates himself to hunting down and destroying his creation.\n",
            "\n",
            "2. **The Creature (or the Monster):** Victor's creation. Abandoned by his creator, the creature is intelligent and sensitive but hideous in appearance. He initially seeks acceptance and love but is met with fear and rejection. This leads him down a path of vengeance, targeting Victor's family and friends.  He desires a mate like himself.\n",
            "\n",
            "3. **Elizabeth Lavenza:** Victor's adopted cousin and eventual wife. She is depicted as beautiful, virtuous, and compassionate. Elizabeth serves as a symbol of innocence and domesticity, providing solace to Victor during his darkest moments. She tragically becomes a victim of the creature's wrath.\n",
            "\n",
            "4. **Robert Walton:** The Arctic seafarer who rescues Victor. He writes the letters that frame the novel. Walton's ambition for discovery mirrors Victor's, offering a parallel and cautionary tale. He listens to Victor's story and records it for his sister.\n",
            "\n",
            "5. **Alphonse Frankenstein:** Victor's father. A loving and supportive parent, he tries to console Victor and understand his suffering. He eventually dies from grief after Elizabeth's murder.\n",
            "\n",
            "6. **Henry Clerval:** Victor's closest friend since childhood. He is kind, compassionate, and represents the ideal companion. Henry nurses Victor back to health during his illness and later joins him on his travels. He too is murdered by the creature.\n",
            "\n",
            "7. **Justine Moritz:** A young woman who lives with the Frankenstein family. She is falsely accused and executed for William's murder, becoming another victim of the creature's actions.\n",
            "\n",
            "8. **William Frankenstein:** Victor's youngest brother. A sweet and innocent child, he is the creature's first victim, sparking Victor's overwhelming guilt.\n",
            "\n",
            "9. **Ernest Frankenstein:** Victor's younger brother. He plays a minor role, concerned for Victor's well-being and saddened by William's death.\n",
            "\n",
            "10. **De Lacey:** A blind old man living in Germany with his children, Agatha and Felix. He offers kindness to the creature, showing him compassion before his children drive him away due to his appearance.\n",
            "\n",
            "11. **Safie:** The adopted daughter of the De Lacey family. An Arabian who escapes from a forced marriage and seeks refuge with the De Laceys. Her arrival brings joy to the family and her learning to read parallels the creature's education.\n",
            "\n",
            "12. **Felix De Lacey:** The son of De Lacey. He is kind and compassionate but driven to despair by his family’s misfortune and the loss of Safie.\n",
            "\n",
            "13. **Agatha De Lacey:** De Lacey's daughter. She embodies kindness and domesticity, providing for her father and brother.\n",
            "\n",
            "14. **Mr. Kirwin:** The magistrate who investigates Clerval's murder. Although initially suspicious of Victor, he treats him with kindness and understanding.\n",
            "\n",
            "15. **Beaufort:**  Caroline Beaufort's father and Alphonse Frankenstein's friend. Though he appears only in Victor’s backstory, his story highlights themes of pride and misfortune.\n",
            "\n",
            "16. **Caroline Beaufort:** Victor's mother. A compassionate and virtuous woman who dies from scarlet fever after nursing Elizabeth. Her death is a significant loss for Victor and fuels his desire to overcome death.\n",
            "\n"
          ]
        }
      ],
      "source": [
        "response = model.generate_content([\"Produce a description of all the characters in the book. List it from most important in the book to least.\", up_file])\n",
        "print(response.text)"
      ]
    },
    {
      "cell_type": "code",
      "execution_count": null,
      "metadata": {
        "colab": {
          "base_uri": "https://localhost:8080/",
          "height": 104
        },
        "id": "Jdt2tyEwxQKX",
        "outputId": "7170ffd6-13e1-4a15-b655-9d8fc5420331"
      },
      "outputs": [
        {
          "output_type": "stream",
          "name": "stdout",
          "text": [
            "Uploaded files:\n",
            "- Frankenstein.txt\n",
            "- Frankenstein.txt\n",
            "- Frankenstein.txt\n",
            "- Frankenstein.txt\n"
          ]
        }
      ],
      "source": [
        "display_uploaded_files()"
      ]
    },
    {
      "cell_type": "code",
      "execution_count": null,
      "metadata": {
        "id": "NYD0xOBBxyn3",
        "outputId": "62eeddcb-1c93-4998-f3c7-afc06fc1869a",
        "colab": {
          "base_uri": "https://localhost:8080/",
          "height": 104
        }
      },
      "outputs": [
        {
          "output_type": "stream",
          "name": "stdout",
          "text": [
            "Deleted file: Frankenstein.txt\n",
            "Deleted file: Frankenstein.txt\n",
            "Deleted file: Frankenstein.txt\n",
            "Deleted file: Frankenstein.txt\n",
            "All uploaded files have been cleared.\n"
          ]
        }
      ],
      "source": [
        "# clear_uploaded_files()"
      ]
    }
  ],
  "metadata": {
    "colab": {
      "provenance": [],
      "include_colab_link": true
    },
    "kernelspec": {
      "display_name": "gemini_work",
      "language": "python",
      "name": "python3"
    },
    "language_info": {
      "codemirror_mode": {
        "name": "ipython",
        "version": 3
      },
      "file_extension": ".py",
      "mimetype": "text/x-python",
      "name": "python",
      "nbconvert_exporter": "python",
      "pygments_lexer": "ipython3",
      "version": "3.13.0"
    }
  },
  "nbformat": 4,
  "nbformat_minor": 0
}