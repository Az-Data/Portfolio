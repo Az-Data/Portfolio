{
  "cells": [
    {
      "cell_type": "markdown",
      "metadata": {
        "id": "view-in-github",
        "colab_type": "text"
      },
      "source": [
        "<a href=\"https://colab.research.google.com/github/Az-Data/Portfolio/blob/master/Book%20Summariser.ipynb\" target=\"_parent\"><img src=\"https://colab.research.google.com/assets/colab-badge.svg\" alt=\"Open In Colab\"/></a>"
      ]
    },
    {
      "cell_type": "markdown",
      "metadata": {
        "id": "oAA5jQ6sls3u"
      },
      "source": [
        "# Book Summariser\n",
        "\n",
        "I am part of a book club, and I wanted the ability to go back and review books I've already read and question the text.\n",
        "Example use would be to find out:\n",
        "- What themes were prominent in the book?\n",
        "- What would be some open ended questions that can drive discussion about aspects about this book?\n",
        "- Get a description of all the main characters in the book.\n"
      ]
    },
    {
      "cell_type": "markdown",
      "metadata": {
        "id": "aFziwAlTls3z"
      },
      "source": [
        "I am having trouble uploading a file to the genai api, when I run this notebook locally. I haven't been able to figure out what the issue is (kernel crashes when using the upload_to_gemini function).\n",
        "I am able to run the notebook fine as a Google Colab notebook.\n",
        "If you are running this notebook in Colab, you will need to upload the following to the Colab session storage:\n",
        "- .env file that contains your Gemini API key"
      ]
    },
    {
      "cell_type": "code",
      "execution_count": 4,
      "metadata": {
        "id": "0OPvFS9NmGrR"
      },
      "outputs": [],
      "source": [
        "# Uncomment the below and run this cell if you are running this notebook in Google Colab\n",
        "%%capture\n",
        "!pip install python-dotenv EbookLib"
      ]
    },
    {
      "cell_type": "code",
      "source": [
        "# Uploads the Sample.txt file\n",
        "!wget -O /content/Frankenstein.txt \"https://github.com/Az-Data/Portfolio/blob/master/Frankenstein.txt\""
      ],
      "metadata": {
        "colab": {
          "base_uri": "https://localhost:8080/"
        },
        "id": "lCUI6PI5OaLJ",
        "outputId": "e2d4f7ed-c439-44db-d95a-27f7d9d7294e"
      },
      "execution_count": 16,
      "outputs": [
        {
          "output_type": "stream",
          "name": "stdout",
          "text": [
            "--2024-11-07 01:35:02--  https://github.com/Az-Data/Portfolio/blob/master/Frankenstein.txt\n",
            "Resolving github.com (github.com)... 140.82.113.3\n",
            "Connecting to github.com (github.com)|140.82.113.3|:443... connected.\n",
            "HTTP request sent, awaiting response... 200 OK\n",
            "Length: unspecified [text/html]\n",
            "Saving to: ‘/content/Frankenstein.txt’\n",
            "\n",
            "/content/Frankenste     [  <=>               ]   1.12M  3.63MB/s    in 0.3s    \n",
            "\n",
            "2024-11-07 01:35:03 (3.63 MB/s) - ‘/content/Frankenstein.txt’ saved [1171389]\n",
            "\n"
          ]
        }
      ]
    },
    {
      "cell_type": "code",
      "execution_count": 17,
      "metadata": {
        "colab": {
          "base_uri": "https://localhost:8080/"
        },
        "id": "a41wf5lNls30",
        "outputId": "576686c8-c00b-40da-c9a3-dcb62dc226ee"
      },
      "outputs": [
        {
          "output_type": "execute_result",
          "data": {
            "text/plain": [
              "True"
            ]
          },
          "metadata": {},
          "execution_count": 17
        }
      ],
      "source": [
        "import os\n",
        "import google.generativeai as genai\n",
        "from dotenv import load_dotenv, find_dotenv\n",
        "import zipfile\n",
        "import ebooklib\n",
        "from ebooklib import epub\n",
        "from bs4 import BeautifulSoup\n",
        "import mimetypes\n",
        "import time\n",
        "\n",
        "load_dotenv(find_dotenv())"
      ]
    },
    {
      "cell_type": "code",
      "execution_count": 18,
      "metadata": {
        "id": "gehvpyFJls33"
      },
      "outputs": [],
      "source": [
        "genai.configure(api_key=os.environ.get('GEMINI_API_KEY'))"
      ]
    },
    {
      "cell_type": "code",
      "execution_count": 19,
      "metadata": {
        "id": "Mo7eqp20ls36"
      },
      "outputs": [],
      "source": [
        "\n",
        "\n",
        "def upload_to_gemini(path, mime_type=None):\n",
        "  \"\"\"Uploads the given file to Gemini.\n",
        "\n",
        "  \"\"\"\n",
        "  file = genai.upload_file(path, mime_type=mime_type)\n",
        "  print(f\"Uploaded file '{file.display_name}' as: {file.uri}\")\n",
        "  return file\n",
        "\n",
        "\n",
        "\n",
        "def clear_uploaded_files():\n",
        "    \"\"\"\n",
        "    Clears all uploaded files from the current Gemini session.\n",
        "    \"\"\"\n",
        "    uploaded_files = genai.list_files()\n",
        "    for file in uploaded_files:\n",
        "        try:\n",
        "            genai.delete_file(file.name)\n",
        "            print(f\"Deleted file: {file.display_name}\")\n",
        "        except Exception as e:\n",
        "            print(f\"Error deleting file {file.display_name}: {e}\")\n",
        "\n",
        "    print(\"All uploaded files have been cleared.\")\n",
        "\n",
        "\n",
        "\n",
        "def display_uploaded_files():\n",
        "    \"\"\"\n",
        "    Displays the names of all uploaded files in the current Gemini session.\n",
        "    \"\"\"\n",
        "    uploaded_files = genai.list_files()\n",
        "    if uploaded_files:\n",
        "        print(\"Uploaded files:\")\n",
        "        for file in uploaded_files:\n",
        "            print(f\"- {file.display_name}\")\n",
        "    else:\n",
        "        print(\"No files have been uploaded yet.\")\n",
        "\n",
        "\n",
        "# Create the model\n",
        "generation_config = {\n",
        "  \"temperature\": 1,\n",
        "  \"top_p\": 0.95,\n",
        "  \"top_k\": 40,\n",
        "  \"max_output_tokens\": 32768,\n",
        "  \"response_mime_type\": \"text/plain\",\n",
        "}\n",
        "\n",
        "model = genai.GenerativeModel(\n",
        "  model_name=\"gemini-1.5-pro\",\n",
        "  generation_config=generation_config,\n",
        ")\n",
        "\n"
      ]
    },
    {
      "cell_type": "code",
      "execution_count": 20,
      "metadata": {
        "colab": {
          "base_uri": "https://localhost:8080/",
          "height": 34
        },
        "id": "JRVviHHmrIdm",
        "outputId": "62e0c708-faaa-4bfa-9d95-a938f63570f2"
      },
      "outputs": [
        {
          "output_type": "stream",
          "name": "stdout",
          "text": [
            "Uploaded file 'Frankenstein.txt' as: https://generativelanguage.googleapis.com/v1beta/files/9l3t2deop2u5\n"
          ]
        }
      ],
      "source": [
        "# You may need to update the file paths\n",
        "up_file = upload_to_gemini(\"Frankenstein.txt\", mime_type=\"text/plain\")\n"
      ]
    },
    {
      "cell_type": "code",
      "execution_count": 21,
      "metadata": {
        "colab": {
          "base_uri": "https://localhost:8080/",
          "height": 245
        },
        "id": "PpA0_ex1-0F5",
        "outputId": "d44e2d8a-212c-450b-ef30-74204e5f48fd"
      },
      "outputs": [
        {
          "output_type": "stream",
          "name": "stdout",
          "text": [
            "Mary Shelley's *Frankenstein* tells the story of Victor Frankenstein, a brilliant and ambitious young scientist from Geneva. Obsessed with unraveling the mysteries of life and death, Victor discovers the secret of animating lifeless matter and creates a grotesque, monstrous being from assembled body parts.  Horrified by his creation, Victor abandons it.\n",
            "\n",
            "The creature, despite its hideous appearance, possesses a sensitive and intelligent mind. Abandoned and alone, it learns to read and observe a family of cottagers, developing a yearning for acceptance and love. However, when the creature finally reveals itself to the cottagers, it is met with fear and rejection, driving it to despair and revenge.\n",
            "\n",
            "Consumed by bitterness, the creature demands that Victor create a female companion for it, promising to then disappear with her into the wilds of South America.  Victor initially agrees, feeling a sense of obligation to his creation, but is later consumed by the fear of unleashing a race of monsters upon the world and destroys the unfinished female.\n",
            "\n",
            "Enraged by Victor's betrayal, the creature vows revenge and kills Victor's younger brother, William. Justine Moritz, a young woman living with the Frankensteins, is wrongly accused and executed for William's murder.  The creature continues its vengeful rampage, killing Victor's best friend, Henry Clerval, and ultimately, Victor's bride, Elizabeth, on their wedding night.\n",
            "\n",
            "Driven by grief and a thirst for revenge, Victor dedicates his life to hunting down the monster, pursuing it across the globe. The chase leads them to the Arctic, where Victor, weakened and exhausted, is rescued by Robert Walton, the captain of a ship exploring the northern seas.  Victor recounts his tragic story to Walton, warning him of the dangers of unchecked ambition.\n",
            "\n",
            "Victor dies aboard Walton's ship, still consumed by his quest. The creature appears at Victor's deathbed, expressing both grief and remorse for its actions. It tells Walton of its intention to end its miserable existence on a funeral pyre and disappears into the icy wilderness.\n",
            "\n"
          ]
        }
      ],
      "source": [
        "response = model.generate_content([\"Give me a summary of this book\", up_file])\n",
        "print(response.text)"
      ]
    },
    {
      "cell_type": "code",
      "execution_count": 22,
      "metadata": {
        "colab": {
          "base_uri": "https://localhost:8080/",
          "height": 280
        },
        "id": "gThj2SH9Elk2",
        "outputId": "ca27dcb0-9e23-4a50-9028-a2c31c1194f3"
      },
      "outputs": [
        {
          "output_type": "stream",
          "name": "stdout",
          "text": [
            "This text file contains the full text of Mary Shelley's *Frankenstein*.  Therefore, the prominent themes are those of the novel itself, including:\n",
            "\n",
            "* **Creation and consequence:**  The novel explores the dangers of unchecked ambition and the unforeseen consequences of playing God. Victor Frankenstein's creation of the monster leads to tragedy and ruin for himself and his loved ones.  This theme also touches on the responsibility of a creator for their creation.\n",
            "* **Nature vs. nurture:** The monster is initially innocent and desires acceptance, but society's rejection and Victor's abandonment turn him into a vengeful creature. This raises questions about the inherent nature of humanity and the role of external influences in shaping an individual's character.\n",
            "* **Isolation and loneliness:** Both Victor and the monster experience profound isolation. Victor isolates himself through his obsession with his work, and the monster is shunned by society due to his appearance.  The text explores the devastating effects of loneliness on the human psyche.\n",
            "* **Prejudice and injustice:** The monster faces prejudice and fear simply because of his appearance, leading to his exclusion from human society. This theme critiques societal biases and the ways in which they can lead to injustice and suffering.\n",
            "* **The pursuit of knowledge and ambition:** Victor's relentless pursuit of scientific knowledge and his ambition to achieve something extraordinary ultimately lead to his downfall. The novel questions the boundaries of scientific exploration and the potential dangers of unchecked ambition.\n",
            "* **Revenge and justice:**  The cycle of revenge that consumes both Victor and the monster highlights the destructive nature of this pursuit. The novel questions what true justice is and whether revenge can ever truly bring closure or peace.\n",
            "* **Loss and grief:** The novel is filled with loss and the profound grief that accompanies it. Victor experiences the deaths of his loved ones, and the monster grieves the loss of potential companionship and acceptance.  The exploration of grief and its different manifestations is central to the novel.\n",
            "* **The sublime and the grotesque:** Shelley uses vivid descriptions of nature's beauty and power, contrasting them with the grotesque and monstrous form of the creature. This duality creates a powerful and unsettling atmosphere, reflecting the complex themes of the novel.\n",
            "* **Family and domesticity:** The importance of family and domestic connections is emphasized throughout the novel, particularly in Victor's early life and his longing for those connections later on.  The monster's desire for a family of his own further underscores this theme.\n",
            "\n",
            "This list isn't exhaustive, but it covers the major thematic concerns of Shelley's masterpiece.\n",
            "\n"
          ]
        }
      ],
      "source": [
        "response = model.generate_content([\"What themes were prominent in the book?\", up_file])\n",
        "print(response.text)"
      ]
    },
    {
      "cell_type": "code",
      "execution_count": 23,
      "metadata": {
        "colab": {
          "base_uri": "https://localhost:8080/",
          "height": 610
        },
        "id": "0LTAiXO1rDYK",
        "outputId": "8996bd8a-c5b4-4e8d-f547-9b4f3da3b45e"
      },
      "outputs": [
        {
          "output_type": "stream",
          "name": "stdout",
          "text": [
            "Given that the provided text is the full text of Mary Shelley's *Frankenstein*, here are some open-ended questions to drive discussion about various aspects of the book:\n",
            "\n",
            "**Narrative &amp; Structure:**\n",
            "\n",
            "* How does the epistolary framing (Walton's letters) affect your understanding of Victor's story? Does it add to or detract from the narrative?\n",
            "* How do the multiple narrators (Walton, Victor, the Creature) influence your perspective on events? Whose story is most compelling, and why?\n",
            "* The novel shifts between different settings (Arctic, Switzerland, Germany, etc.). How do these changes in place impact the story's atmosphere and themes?\n",
            "* *Frankenstein* can be considered a frame narrative. How does this structure contribute to the novel's exploration of responsibility, creation, and ambition?\n",
            "\n",
            "**Character &amp; Relationships:**\n",
            "\n",
            "* Victor Frankenstein is often seen as a complex and flawed protagonist. To what extent is he sympathetic, and to what extent is he culpable for the tragedy that unfolds?\n",
            "* Explore the Creature's development as a character. How do his experiences shape his perception of humanity and himself?  Is he purely monstrous, or is there a tragic element to his character?\n",
            "* Discuss the role of family in the novel. How do family relationships both nurture and destroy the characters?\n",
            "*  Analyze Victor's relationship with Elizabeth.  How does their dynamic shift throughout the story, and how does it contribute to the overall tragedy?\n",
            "\n",
            "**Themes &amp; Motifs:**\n",
            "\n",
            "*  *Frankenstein* is often described as a cautionary tale about the dangers of unchecked ambition.  In what ways does the novel explore this theme, and are there other equally important warnings within the story?\n",
            "* Discuss the novel's commentary on nature versus nurture. To what extent is the Creature's behavior a product of his inherent nature, and to what extent is it a result of his experiences?\n",
            "* Explore the role of isolation and loneliness in *Frankenstein*. How do these experiences affect Victor and the Creature, and how do they relate to the novel's broader themes?\n",
            "* The novel deals with the themes of creation and responsibility. Who bears responsibility for the Creature's actions: Victor, the Creature himself, or society?\n",
            "* *Frankenstein* grapples with the concept of justice. Discuss how different characters seek justice and whether or not they achieve it.  What is Shelley saying about the nature of justice itself?\n",
            "\n",
            "**Context &amp; Interpretation:**\n",
            "\n",
            "*  How does the historical and cultural context of the Romantic era influence the themes and ideas presented in *Frankenstein*?\n",
            "* Consider *Frankenstein* as a gothic novel.  How does Shelley use gothic elements to create suspense, explore psychological themes, and enhance the novel's impact?\n",
            "* The novel can be read through various lenses (feminist, psychological, scientific).  Which interpretation resonates most with you and why?\n",
            "* How do you believe the novel's enduring popularity reflects its continuing relevance to contemporary issues and concerns?\n",
            "\n",
            "These open-ended questions are designed to encourage deeper analysis and thoughtful discussion about *Frankenstein*. Remember to support your answers with specific examples from the text.\n",
            "\n"
          ]
        }
      ],
      "source": [
        "response = model.generate_content([\"What would be some open ended questions that can drive discussion about aspects about this book?\", up_file])\n",
        "print(response.text)\n"
      ]
    },
    {
      "cell_type": "code",
      "execution_count": 24,
      "metadata": {
        "colab": {
          "base_uri": "https://localhost:8080/",
          "height": 645
        },
        "id": "JUMnHXywHVwI",
        "outputId": "d2f2f183-20ea-452b-b240-89d54dc62085"
      },
      "outputs": [
        {
          "output_type": "stream",
          "name": "stdout",
          "text": [
            "This text file appears to be *Frankenstein; or, The Modern Prometheus* by Mary Shelley, provided by Project Gutenberg.  Analyzing it reveals the following characters in order of importance:\n",
            "\n",
            "1. **Victor Frankenstein:** The protagonist.  A young scientist from Geneva who creates the creature and is then consumed by guilt and horror. His life is dominated by his creation and the consequences that follow.\n",
            "\n",
            "2. **The Creature (or the monster, the dæmon, the fiend):** Victor's creation, brought to life through unnatural means. Abandoned by his creator, he becomes a figure of both pity and terror. He learns language and observes humanity, developing complex emotions and desires for connection, but he turns to revenge after facing rejection and hatred.\n",
            "\n",
            "3. **Robert Walton:** The Arctic explorer who finds Victor near death and records his story. He acts as the frame narrator, writing letters to his sister Margaret Saville and then transcribing Victor's account. He provides a parallel to Victor in his own ambitious pursuits and desire for companionship.\n",
            "\n",
            "4. **Elizabeth Lavenza:** Victor's adopted cousin and later, wife. A symbol of innocence, kindness, and domestic happiness. She is a source of comfort for Victor and his family but tragically becomes a victim of the creature's revenge.\n",
            "\n",
            "5. **Alphonse Frankenstein:** Victor's father. A loving and supportive parent who is devastated by the tragedies that befall his family. He provides wise counsel to Victor but ultimately succumbs to grief.\n",
            "\n",
            "6. **Henry Clerval:** Victor's closest friend from childhood. A compassionate and enthusiastic young man who is eager to learn and explore the world. He nurses Victor back to health after his creation of the monster but later becomes a victim of the creature.\n",
            "\n",
            "7. **Justine Moritz:** A young woman taken in by the Frankenstein family. Wrongfully accused and executed for William's murder, she becomes another victim of the creature's actions.\n",
            "\n",
            "8. **The De Lacey Family (the old man, Agatha, and Felix):** The cottagers whom the creature observes and from whom he learns about language, human society, and emotion.  Their rejection of him leads to a turning point in his story.\n",
            "\n",
            "9. **Safie (the Arabian):** Felix's love interest, who comes to live with the De Lacey family. Her learning of their language alongside the creature accelerates his own linguistic development.\n",
            "\n",
            "10. **William Frankenstein:** Victor's youngest brother. His murder by the creature is the first of many tragedies that haunt Victor.\n",
            "\n",
            "11. **Ernest Frankenstein:** Victor's younger brother.  He survives the creature's rampage.\n",
            "\n",
            "12. **Margaret Saville:** Walton's sister, the recipient of his letters.  She is never directly involved in the story but serves as the audience for Walton's (and therefore Victor's) narrative.\n",
            "\n",
            "13.  **Mr. Kirwin:** The magistrate in Ireland who investigates Clerval's death and shows kindness to Victor.\n",
            "\n",
            "14. **Beaufort:**  Caroline Beaufort's father, and Alphonse Frankenstein's friend.  His financial ruin and death set the stage for Alphonse adopting and marrying Caroline.\n",
            "\n",
            "15. **Caroline Beaufort Frankenstein:** Victor's mother.  Her compassion leads to her adopting Elizabeth and then succumbing to scarlet fever caught from Elizabeth. While important to Victor's back story, she dies early and isn't a major presence.\n",
            "\n",
            "\n",
            "Other minor characters are mentioned briefly in letters or conversations, but these are the individuals who play significant roles in the plot and the creature's development.\n",
            "\n"
          ]
        }
      ],
      "source": [
        "response = model.generate_content([\"Produce a description of all the characters in the book. List it from most important in the book to least.\", up_file])\n",
        "print(response.text)"
      ]
    },
    {
      "cell_type": "code",
      "execution_count": 25,
      "metadata": {
        "colab": {
          "base_uri": "https://localhost:8080/",
          "height": 69
        },
        "id": "Jdt2tyEwxQKX",
        "outputId": "da41cca8-7ccb-40bd-a2d8-4a8a92c796d6"
      },
      "outputs": [
        {
          "output_type": "stream",
          "name": "stdout",
          "text": [
            "Uploaded files:\n",
            "- Frankenstein.txt\n",
            "- Frankenstein.txt\n"
          ]
        }
      ],
      "source": [
        "display_uploaded_files()"
      ]
    },
    {
      "cell_type": "code",
      "execution_count": 26,
      "metadata": {
        "id": "NYD0xOBBxyn3"
      },
      "outputs": [],
      "source": [
        "# clear_uploaded_files()"
      ]
    }
  ],
  "metadata": {
    "colab": {
      "provenance": [],
      "include_colab_link": true
    },
    "kernelspec": {
      "display_name": "gemini_work",
      "language": "python",
      "name": "python3"
    },
    "language_info": {
      "codemirror_mode": {
        "name": "ipython",
        "version": 3
      },
      "file_extension": ".py",
      "mimetype": "text/x-python",
      "name": "python",
      "nbconvert_exporter": "python",
      "pygments_lexer": "ipython3",
      "version": "3.13.0"
    }
  },
  "nbformat": 4,
  "nbformat_minor": 0
}