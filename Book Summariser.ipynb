{
  "cells": [
    {
      "cell_type": "markdown",
      "metadata": {
        "id": "view-in-github",
        "colab_type": "text"
      },
      "source": [
        "<a href=\"https://colab.research.google.com/github/Az-Data/Portfolio/blob/master/Book%20Summariser.ipynb\" target=\"_parent\"><img src=\"https://colab.research.google.com/assets/colab-badge.svg\" alt=\"Open In Colab\"/></a>"
      ]
    },
    {
      "cell_type": "markdown",
      "metadata": {
        "id": "oAA5jQ6sls3u"
      },
      "source": [
        "# Book Summariser\n",
        "\n",
        "I am part of a book club, and I wanted the ability to go back and review books I've already read and question the text.\n",
        "Example use would be to find out:\n",
        "- What themes were prominent in the book?\n",
        "- What would be some open ended questions that can drive discussion about aspects about this book?\n",
        "- Get a description of all the main characters in the book.\n"
      ]
    },
    {
      "cell_type": "markdown",
      "metadata": {
        "id": "aFziwAlTls3z"
      },
      "source": [
        "I am having trouble uploading a file to the genai api, when I run this notebook locally. I haven't been able to figure out what the issue is (kernel crashes when using the upload_to_gemini function).\n",
        "I am able to run the notebook fine as a Google Colab notebook.\n",
        "If you are running this notebook in Colab, you will need to upload the following the Colab session storage:\n",
        "- The text file that contains the book\n",
        "- .env file that contains your Gemini API key"
      ]
    },
    {
      "cell_type": "code",
      "execution_count": 12,
      "metadata": {
        "id": "0OPvFS9NmGrR"
      },
      "outputs": [],
      "source": [
        "# Run this cell if you are running this notebook in Google Colab\n",
        "# %%capture\n",
        "# !pip install python-dotenv EbookLib"
      ]
    },
    {
      "cell_type": "code",
      "execution_count": 13,
      "metadata": {
        "colab": {
          "base_uri": "https://localhost:8080/"
        },
        "id": "a41wf5lNls30",
        "outputId": "5daa59b4-de30-4cf4-97da-4c0c72d8ebc6"
      },
      "outputs": [
        {
          "output_type": "execute_result",
          "data": {
            "text/plain": [
              "True"
            ]
          },
          "metadata": {},
          "execution_count": 13
        }
      ],
      "source": [
        "import os\n",
        "import google.generativeai as genai\n",
        "from dotenv import load_dotenv, find_dotenv\n",
        "import zipfile\n",
        "import ebooklib\n",
        "from ebooklib import epub\n",
        "from bs4 import BeautifulSoup\n",
        "import mimetypes\n",
        "import time\n",
        "\n",
        "load_dotenv(find_dotenv())"
      ]
    },
    {
      "cell_type": "code",
      "execution_count": 14,
      "metadata": {
        "id": "gehvpyFJls33"
      },
      "outputs": [],
      "source": [
        "genai.configure(api_key=os.environ.get('GEMINI_API_KEY'))"
      ]
    },
    {
      "cell_type": "code",
      "execution_count": 15,
      "metadata": {
        "id": "Mo7eqp20ls36"
      },
      "outputs": [],
      "source": [
        "\n",
        "\n",
        "def upload_to_gemini(path, mime_type=None):\n",
        "  \"\"\"Uploads the given file to Gemini.\n",
        "\n",
        "  See https://ai.google.dev/gemini-api/docs/prompting_with_media\n",
        "  \"\"\"\n",
        "  file = genai.upload_file(path, mime_type=mime_type)\n",
        "  print(f\"Uploaded file '{file.display_name}' as: {file.uri}\")\n",
        "  return file\n",
        "\n",
        "\n",
        "\n",
        "def clear_uploaded_files():\n",
        "    \"\"\"\n",
        "    Clears all uploaded files from the current Gemini session.\n",
        "    \"\"\"\n",
        "    uploaded_files = genai.list_files()\n",
        "    for file in uploaded_files:\n",
        "        try:\n",
        "            genai.delete_file(file.name)\n",
        "            print(f\"Deleted file: {file.display_name}\")\n",
        "        except Exception as e:\n",
        "            print(f\"Error deleting file {file.display_name}: {e}\")\n",
        "\n",
        "    print(\"All uploaded files have been cleared.\")\n",
        "\n",
        "\n",
        "\n",
        "def display_uploaded_files():\n",
        "    \"\"\"\n",
        "    Displays the names of all uploaded files in the current Gemini session.\n",
        "    \"\"\"\n",
        "    uploaded_files = genai.list_files()\n",
        "    if uploaded_files:\n",
        "        print(\"Uploaded files:\")\n",
        "        for file in uploaded_files:\n",
        "            print(f\"- {file.display_name}\")\n",
        "    else:\n",
        "        print(\"No files have been uploaded yet.\")\n",
        "\n",
        "\n",
        "# Create the model\n",
        "generation_config = {\n",
        "  \"temperature\": 1,\n",
        "  \"top_p\": 0.95,\n",
        "  \"top_k\": 40,\n",
        "  \"max_output_tokens\": 32768,\n",
        "  \"response_mime_type\": \"text/plain\",\n",
        "}\n",
        "\n",
        "model = genai.GenerativeModel(\n",
        "  model_name=\"gemini-1.5-pro\",\n",
        "  generation_config=generation_config,\n",
        ")\n",
        "\n"
      ]
    },
    {
      "cell_type": "code",
      "execution_count": 16,
      "metadata": {
        "colab": {
          "base_uri": "https://localhost:8080/",
          "height": 34
        },
        "id": "JRVviHHmrIdm",
        "outputId": "730008f3-9408-4562-dc57-520f7f7ce995"
      },
      "outputs": [
        {
          "output_type": "stream",
          "name": "stdout",
          "text": [
            "Uploaded file 'book_output.txt' as: https://generativelanguage.googleapis.com/v1beta/files/e33ohp14erp0\n"
          ]
        }
      ],
      "source": [
        "# You may need to update the file paths\n",
        "up_file = upload_to_gemini(\"book_output.txt\", mime_type=\"text/plain\")\n"
      ]
    },
    {
      "cell_type": "code",
      "execution_count": 17,
      "metadata": {
        "colab": {
          "base_uri": "https://localhost:8080/",
          "height": 280
        },
        "id": "PpA0_ex1-0F5",
        "outputId": "f2f5ad49-b993-4679-a926-bb3f0cd27659"
      },
      "outputs": [
        {
          "output_type": "stream",
          "name": "stdout",
          "text": [
            "Kell is the last Antari—a blood magician with the rare ability to travel between parallel Londons. There's Grey London, Kell's own vibrant Red London, the dying White London, and the lost, corrupted Black London. Kell serves as a messenger between the remaining Londons, but secretly smuggles trinkets between them.\n",
            "\n",
            "During a trip to Grey London, Kell is tricked into carrying a dangerous stone from Black London. This act draws the attention of Holland, the Antari of White London, who is bound to the cruel Dane twins and sent to retrieve the stone.  In Grey London, Kell crosses paths with Lila Bard, a quick-witted thief who robs him of the stone.\n",
            "\n",
            "Realizing the stone’s power and danger, Kell pursues Lila. Holland, following Kell’s magical signature, captures Lila and tortures her to reveal Kell's location. Kell returns to rescue her, and they flee to Red London.\n",
            "\n",
            "In Red London, they discover Kell is a wanted man, framed for treason. Holland pursues them, revealing he was sent by the Danes, who seek to use the stone to conquer Red London.  Amidst the chaos of Prince Rhy’s birthday celebrations, Kell and Lila struggle against Holland. Rhy is possessed by Astrid Dane, one of the twins, and attempts to steal the stone. In a confrontation, Rhy is mortally wounded, and Kell uses the stone's magic to create a soul seal, binding Rhy's life to his own.\n",
            "\n",
            "Kell decides he must return the stone to Black London, a suicide mission as the seals prevent return. Lila insists on accompanying him. They retrieve a necessary token from Fletcher, a fence in Red London, but Fletcher betrays Kell to the royal guard.  Lila escapes, and Kell is captured, but drugged and impersonated by Astrid.  Lila frees Kell, and they flee to White London.\n",
            "\n",
            "In White London, they confront the Danes.  Lila faces Astrid and Kell battles Athos.  Lila cleverly disables a protective spell and nearly kills Astrid before being overcome. Kell, near defeat, is saved by the stone’s magic, though it corrupts him further.  The stone’s magic manifests as Vitari, the essence of Black London, and attempts to possess Kell. Kell dispels Vitari, destroying the stone's power. He returns to the courtyard to find Lila seriously wounded.  Realizing the danger of the now powerless stone, Kell uses Holland's dying body to send it back to Black London.\n",
            "\n",
            "Kell and Lila return to Red London and surrender. Kell reveals the Danes’ plot and the soul seal binding him to Rhy, saving them from execution. Lila fabricates a story about being a visiting foreigner to protect herself and Kell. While Kell tends to the recovering Rhy, Lila decides to remain in Red London, drawn by its magic and the promise of adventure. She sets off to find a ship and explore the worlds, now open to her thanks to the stone's residual magic.\n",
            "\n"
          ]
        }
      ],
      "source": [
        "response = model.generate_content([\"Give me a summary of this book\", up_file])\n",
        "print(response.text)"
      ]
    },
    {
      "cell_type": "code",
      "execution_count": 18,
      "metadata": {
        "colab": {
          "base_uri": "https://localhost:8080/",
          "height": 315
        },
        "id": "gThj2SH9Elk2",
        "outputId": "e424af95-4128-4faa-cc9f-c3375267f0ec"
      },
      "outputs": [
        {
          "output_type": "stream",
          "name": "stdout",
          "text": [
            "Several interwoven themes are prominent in *A Darker Shade of Magic*:\n",
            "\n",
            "* **Power and Control:** This is a central theme, exploring the corrupting influence of power, the struggle for control over magic, and the consequences of wielding it responsibly or recklessly.  Kell's journey is defined by his attempts to control his own power and the power of the black stone, while Holland's story shows the devastating effects of losing control.  The Danes' lust for power drives their actions, contrasting with Kell and Rhy's (generally) more balanced approach.\n",
            "\n",
            "* **Balance and Imbalance:**  Related to power and control is the concept of balance.  Magic is presented as a force that needs balance; too much or too little can disrupt the world. This is exemplified by the histories of the different Londons: Grey London lacks magic entirely, White London hungers for it to the point of self-destruction, Black London was consumed by it, and Red London, while vibrant, walks a precarious line. Kell’s Antari nature embodies this theme, as he represents both balance and chaos.\n",
            "\n",
            "* **Family and Belonging:**  Kell grapples with his identity and his sense of belonging within the royal family.  He feels like a possession rather than a true member, prompting his rebellious acts of smuggling.  His bond with Rhy, however, demonstrates the importance of chosen family and the power of love and loyalty. Lila's struggle with the loss of Barron and her own solitary nature also touches on this theme, revealing how chosen family can offer stability and connection.\n",
            "\n",
            "* **Freedom and Responsibility:** Kell's duty to his adopted family and kingdom often clashes with his desire for freedom and personal pursuits.  He is bound by responsibility, while Lila embodies a fierce, almost reckless pursuit of freedom.  Her journey reflects her desire to break free from her circumstances and forge her own path, while Kell’s is tied to duty and the consequences of his choices.\n",
            "\n",
            "* **Identity and Memory:** Kell's missing memories and the mystery surrounding his past contribute to his internal conflict. The memory rune on his arm serves as a constant reminder of the unknown life he has forgotten.  This theme adds a layer of intrigue and raises questions about the nature of self and the impact of the past on the present.\n",
            "\n",
            "* **Good vs. Evil:**  While not a simplistic binary, the forces of good and evil are present.  Kell and Rhy generally represent the \"good\" side, striving to protect their kingdom and maintain balance, while the Danes and Holland, though complex, lean towards the \"evil\" side due to their ruthless pursuit of power and control. The black stone itself presents a more ambiguous case, representing pure potential that can be used for both good and evil.\n",
            "\n",
            "* **Consequences of Choice:**  The narrative emphasizes the weight of choices and their far-reaching consequences.  Kell's smuggling, the Danes' power grab, Lila's decision to steal the stone—all of these actions have significant repercussions that ripple throughout the story. The narrative underscores how even seemingly small choices can have profound effects on the characters and the world around them.\n",
            "\n"
          ]
        }
      ],
      "source": [
        "response = model.generate_content([\"What themes were prominent in the book?\", up_file])\n",
        "print(response.text)"
      ]
    },
    {
      "cell_type": "code",
      "execution_count": 19,
      "metadata": {
        "colab": {
          "base_uri": "https://localhost:8080/",
          "height": 905
        },
        "id": "0LTAiXO1rDYK",
        "outputId": "0277900f-0137-4e60-9431-7f23f88ec220"
      },
      "outputs": [
        {
          "output_type": "stream",
          "name": "stdout",
          "text": [
            "Here are some open-ended questions designed to drive discussion about various aspects of *A Darker Shade of Magic*:\n",
            "\n",
            "**Character & Motivation:**\n",
            "\n",
            "* Kell struggles with his sense of belonging and purpose.  How does this internal conflict shape his actions, and how does it evolve throughout the novel?\n",
            "* Lila is driven by a desire for freedom and adventure. Does her pursuit of these ideals change her as a person? Is she ultimately selfish or selfless?\n",
            "* Rhy is often portrayed as charming but frivolous.  Does this mask deeper qualities? How does his relationship with Kell affect his growth as a character?\n",
            "* Holland's actions are seemingly driven by the Dane twins, but are there hints of his own desires and motivations? How does his past shape his present?\n",
            "* What are the primary motivations for the Dane twins? Are they driven by greed, ambition, or something else entirely? Are they sympathetic villains?\n",
            "\n",
            "\n",
            "**Magic & Worldbuilding:**\n",
            "\n",
            "* How does Schwab's use of color to differentiate the Londons enhance the story's themes and atmosphere?\n",
            "* The magic system in the novel is based on balance. How do the different Londons exemplify the consequences of magical imbalance?\n",
            "* What are the ethical implications of the different types of magic presented in the novel, particularly blood magic and possession?\n",
            "* How does the absence of magic in Grey London influence the lives and perspectives of its inhabitants? Do you think the absence of magic makes Grey London better or worse than the others?\n",
            "* How does the presence of Black London, even though it is gone, affect the other worlds? What does it represent?\n",
            "\n",
            "\n",
            "**Themes & Conflicts:**\n",
            "\n",
            "* The novel explores themes of power, control, and freedom.  How are these themes intertwined, and how do they manifest in the different Londons?\n",
            "* What is the significance of Kell being both a bridge between worlds and a prisoner of the crown?\n",
            "* How does the novel portray the relationship between magic and humanity?  Is magic a force for good, evil, or something more complex?\n",
            "* What are the consequences of keeping secrets, both on a personal and societal level, in the context of the novel?\n",
            "* The novel presents different forms of family, both biological and chosen. How are these relationships portrayed, and what is their importance to the characters?\n",
            "\n",
            "\n",
            "**Plot & Structure:**\n",
            "\n",
            "* How does the novel's multiple perspectives contribute to the overall narrative?\n",
            "* What is the significance of the Stone's Throw tavern being a fixed point across the different Londons?\n",
            "* How does the pacing of the novel contribute to the sense of urgency and danger?\n",
            "* Did you find the ending satisfying? How did it resolve—or leave unresolved—the novel's central conflicts?\n",
            "* What aspects of the worldbuilding or magic system did you find most intriguing or confusing?\n",
            "\n",
            "\n",
            "**Beyond the Text:**\n",
            "\n",
            "* If you could visit one of the Londons, which would you choose and why?\n",
            "* What do you think the future holds for Kell and Lila?\n",
            "* How would you describe the novel's overall tone and atmosphere?\n",
            "* What other books or series does *A Darker Shade of Magic* remind you of?\n",
            "* What did you think of the book's exploration of identity and belonging?\n",
            "\n",
            "\n",
            "\n",
            "These open-ended questions should stimulate thoughtful discussions and encourage readers to delve deeper into the intricacies of Schwab's world and characters. They are designed to encourage differing opinions and interpretations, leading to a more enriching reading experience.\n",
            "\n"
          ]
        }
      ],
      "source": [
        "response = model.generate_content([\"What would be some open ended questions that can drive discussion about aspects about this book?\", up_file])\n",
        "print(response.text)\n"
      ]
    },
    {
      "cell_type": "code",
      "execution_count": 20,
      "metadata": {
        "colab": {
          "base_uri": "https://localhost:8080/",
          "height": 801
        },
        "id": "JUMnHXywHVwI",
        "outputId": "351aea72-d13a-47e0-9aaf-79b7945c86f9"
      },
      "outputs": [
        {
          "output_type": "stream",
          "name": "stdout",
          "text": [
            "**Most Important:**\n",
            "\n",
            "1. **Kell:**  The main protagonist, an Antari—a rare blood magician—capable of traveling between parallel Londons. He serves the royal family of Red London as an ambassador and retriever of objects, but also engages in illicit smuggling for his own amusement. His loyalty is constantly tested as he confronts the consequences of his actions and the dangers of the Black London stone.\n",
            "\n",
            "2. **Lila Bard:** A skilled thief and con artist in Grey London, Lila's life intertwines with Kell's when she unknowingly steals the black stone. Her ambition, cunning, and thirst for adventure lead her to accompany Kell on his perilous journey to return the stone. She demonstrates an unexpected aptitude for magic and a growing connection to Kell.\n",
            "\n",
            "3. **Holland:** An Antari from White London, bound to the cruel Dane twins. He initially acts as their agent, seeking to retrieve the black stone, but his motivations are more complex than simple obedience. He shares a history and a grudging respect with Kell.\n",
            "\n",
            "4. **Rhy Maresh:** The prince of Red London and Kell's adoptive brother. He is charming and carefree, but his actions and desires have serious repercussions. His involvement with the possession charm makes him a pawn in Astrid's plan.\n",
            "\n",
            "5. **Astrid Dane:** The ruthless queen of White London, she desires the black stone to conquer Red London and restore balance to her dying world.  She is cunning and power-hungry, willing to use any means necessary to achieve her goals.\n",
            "\n",
            "6. **Athos Dane:** Astrid's equally cruel twin brother, the king of White London. He shares his sister's ambition and ruthlessness, but is even more sadistic and enjoys the process of conflict and violence.\n",
            "\n",
            "**Less Important:**\n",
            "\n",
            "7. **King Maxim:** The king of Red London and Kell's adoptive father. He is a just and caring ruler, but unaware of Kell's smuggling and the true extent of the dangers posed by the other Londons.\n",
            "\n",
            "8. **Queen Emira:** The queen of Red London and Kell's adoptive mother. She is perceptive and concerned about Kell, sensing the darkness within him.\n",
            "\n",
            "9. **Barron:** The owner of the Stone's Throw tavern in Grey London. He provides Lila with shelter and begrudging support, acting as a fixed point in her life. He becomes a victim of Holland.\n",
            "\n",
            "10. **Master Tieren:** The head priest of the London Sanctuary in Red London and Kell's tutor. He is wise and knowledgeable about magic, offering guidance and support to Kell and Lila.\n",
            "\n",
            "11. **Aldus Fletcher:** A fence and magic dealer in Red London. Kell owes him a debt, and Fletcher holds a white rook, a token Kell needs for his journey. He betrays Kell to the royal guard.\n",
            "\n",
            "12. **Ellis:** The captain of the Red London royal guard. He is loyal to the crown and initially pursues Kell, believing him to be a traitor.\n",
            "\n",
            "13. **Gen:** A member of Rhy's personal guard. He is a close friend of Parrish and a victim of the black magic that spreads through Red London.\n",
            "\n",
            "14. **Parrish:** Another member of Rhy's personal guard. He admires Kell and is suspicious of Holland. He also becomes a victim of the black magic.\n",
            "\n",
            "15. **Ned (Edward Archibald Tuttle):** A magic enthusiast in Grey London.  He desires a piece of another London to tap into its magic. His desperation and ambition make him susceptible to manipulation.\n",
            "\n",
            "16. **Calla:**  A merchant in Red London's market who provides Lila with clothes for the masquerade. She is kind and generous, demonstrating an understanding of Arnesian customs and debts.\n",
            "\n",
            "17. **Beloc:** A young guard in White London, compelled by Athos to guard the throne room. He is a symbol of Athos's cruelty and the tragic consequences of forced obedience.\n",
            "\n",
            "18. **Vitari:** The embodiment of the black stone's magic. He is the ultimate antagonist, seeking to possess Kell and unleash the chaotic power of Black London. He does not appear in physical form until the very end.\n",
            "\n",
            "19. **Booth:** A drunkard in Grey London whose body is taken by the spreading darkness from the black stone. He serves as a temporary vessel for the magic.\n",
            "\n",
            "Other characters, such as the various guards, servants, and market vendors, play minor roles and are not crucial to the main plot.\n",
            "\n"
          ]
        }
      ],
      "source": [
        "response = model.generate_content([\"Produce a description of all the characters in the book. List it from most important in the book to least.\", up_file])\n",
        "print(response.text)"
      ]
    },
    {
      "cell_type": "code",
      "execution_count": 21,
      "metadata": {
        "colab": {
          "base_uri": "https://localhost:8080/",
          "height": 104
        },
        "id": "Jdt2tyEwxQKX",
        "outputId": "87ed7409-36e7-4a9e-c542-2c1e20a74d5e"
      },
      "outputs": [
        {
          "output_type": "stream",
          "name": "stdout",
          "text": [
            "Uploaded files:\n",
            "- book_output.txt\n",
            "- book_output.txt\n",
            "- book_output.txt\n",
            "- book_output.txt\n"
          ]
        }
      ],
      "source": [
        "display_uploaded_files()"
      ]
    },
    {
      "cell_type": "code",
      "execution_count": 23,
      "metadata": {
        "id": "NYD0xOBBxyn3",
        "outputId": "cf86eeb2-7343-4aee-f5ae-38220cf55d11",
        "colab": {
          "base_uri": "https://localhost:8080/",
          "height": 104
        }
      },
      "outputs": [
        {
          "output_type": "stream",
          "name": "stdout",
          "text": [
            "Deleted file: book_output.txt\n",
            "Deleted file: book_output.txt\n",
            "Deleted file: book_output.txt\n",
            "Deleted file: book_output.txt\n",
            "All uploaded files have been cleared.\n"
          ]
        }
      ],
      "source": [
        "# clear_uploaded_files()"
      ]
    }
  ],
  "metadata": {
    "colab": {
      "provenance": [],
      "include_colab_link": true
    },
    "kernelspec": {
      "display_name": "gemini_work",
      "language": "python",
      "name": "python3"
    },
    "language_info": {
      "codemirror_mode": {
        "name": "ipython",
        "version": 3
      },
      "file_extension": ".py",
      "mimetype": "text/x-python",
      "name": "python",
      "nbconvert_exporter": "python",
      "pygments_lexer": "ipython3",
      "version": "3.13.0"
    }
  },
  "nbformat": 4,
  "nbformat_minor": 0
}