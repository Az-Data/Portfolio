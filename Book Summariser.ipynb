{
 "cells": [
  {
   "cell_type": "markdown",
   "metadata": {
    "colab_type": "text",
    "id": "view-in-github"
   },
   "source": [
    "<a href=\"https://colab.research.google.com/github/Az-Data/Portfolio/blob/master/Book%20Summariser.ipynb\" target=\"_parent\"><img src=\"https://colab.research.google.com/assets/colab-badge.svg\" alt=\"Open In Colab\"/></a>"
   ]
  },
  {
   "cell_type": "markdown",
   "metadata": {
    "id": "oAA5jQ6sls3u"
   },
   "source": [
    "# Book Summariser (WIP)\n",
    "\n",
    "I am part of a book club, and I wanted the ability to go back and review books I've already read and question the text.\n",
    "Example use would be to find out:\n",
    "- What themes were prominent in the book?\n",
    "- What would be some open ended questions that can drive discussion about aspects about this book?\n",
    "- Get a description of all the main characters in the book.\n"
   ]
  },
  {
   "cell_type": "markdown",
   "metadata": {
    "id": "aFziwAlTls3z"
   },
   "source": [
    "I am having trouble uploading a file to the genai api, when I run this notebook locally. I haven't been able to figure out what the issue is (kernel crashes when using the upload_to_gemini function).\n",
    "I am able to run the notebook fine as a Google Colab notebook. "
   ]
  },
  {
   "cell_type": "code",
   "execution_count": 1,
   "metadata": {
    "id": "0OPvFS9NmGrR"
   },
   "outputs": [],
   "source": [
    "# Run this cell if you are running this notebook in Google Colab\n",
    "# %%capture\n",
    "# !pip install python-dotenv EbookLib"
   ]
  },
  {
   "cell_type": "code",
   "execution_count": 2,
   "metadata": {
    "colab": {
     "base_uri": "https://localhost:8080/"
    },
    "id": "a41wf5lNls30",
    "outputId": "7911a5b4-e71a-4f23-9764-0a8adc1e2264"
   },
   "outputs": [
    {
     "data": {
      "text/plain": [
       "True"
      ]
     },
     "execution_count": 2,
     "metadata": {},
     "output_type": "execute_result"
    }
   ],
   "source": [
    "import os\n",
    "import google.generativeai as genai\n",
    "from dotenv import load_dotenv, find_dotenv\n",
    "import zipfile\n",
    "import ebooklib\n",
    "from ebooklib import epub\n",
    "from bs4 import BeautifulSoup\n",
    "import mimetypes\n",
    "import time\n",
    "\n",
    "load_dotenv(find_dotenv())"
   ]
  },
  {
   "cell_type": "code",
   "execution_count": 3,
   "metadata": {
    "id": "gehvpyFJls33"
   },
   "outputs": [],
   "source": [
    "genai.configure(api_key=os.environ.get('GEMINI_API_KEY'))"
   ]
  },
  {
   "cell_type": "code",
   "execution_count": 4,
   "metadata": {
    "id": "Mo7eqp20ls36"
   },
   "outputs": [],
   "source": [
    "\n",
    "\n",
    "def upload_to_gemini(path, mime_type=None):\n",
    "  \"\"\"Uploads the given file to Gemini.\n",
    "\n",
    "  See https://ai.google.dev/gemini-api/docs/prompting_with_media\n",
    "  \"\"\"\n",
    "  file = genai.upload_file(path, mime_type=mime_type)\n",
    "  print(f\"Uploaded file '{file.display_name}' as: {file.uri}\")\n",
    "  return file\n",
    "\n",
    "\n",
    "\n",
    "def clear_uploaded_files():\n",
    "    \"\"\"\n",
    "    Clears all uploaded files from the current Gemini session.\n",
    "    \"\"\"\n",
    "    uploaded_files = genai.list_files()\n",
    "    for file in uploaded_files:\n",
    "        try:\n",
    "            genai.delete_file(file.name)\n",
    "            print(f\"Deleted file: {file.display_name}\")\n",
    "        except Exception as e:\n",
    "            print(f\"Error deleting file {file.display_name}: {e}\")\n",
    "\n",
    "    print(\"All uploaded files have been cleared.\")\n",
    "\n",
    "\n",
    "\n",
    "def display_uploaded_files():\n",
    "    \"\"\"\n",
    "    Displays the names of all uploaded files in the current Gemini session.\n",
    "    \"\"\"\n",
    "    uploaded_files = genai.list_files()\n",
    "    if uploaded_files:\n",
    "        print(\"Uploaded files:\")\n",
    "        for file in uploaded_files:\n",
    "            print(f\"- {file.display_name}\")\n",
    "    else:\n",
    "        print(\"No files have been uploaded yet.\")\n",
    "\n",
    "\n",
    "# Create the model\n",
    "generation_config = {\n",
    "  \"temperature\": 1,\n",
    "  \"top_p\": 0.95,\n",
    "  \"top_k\": 40,\n",
    "  \"max_output_tokens\": 32768,\n",
    "  \"response_mime_type\": \"text/plain\",\n",
    "}\n",
    "\n",
    "model = genai.GenerativeModel(\n",
    "  model_name=\"gemini-1.5-pro\",\n",
    "  generation_config=generation_config,\n",
    ")\n",
    "\n"
   ]
  },
  {
   "cell_type": "code",
   "execution_count": 6,
   "metadata": {
    "colab": {
     "base_uri": "https://localhost:8080/",
     "height": 34
    },
    "id": "JRVviHHmrIdm",
    "outputId": "84c134af-9760-4e52-d374-4b19f3cbdbb7"
   },
   "outputs": [
    {
     "ename": "",
     "evalue": "",
     "output_type": "error",
     "traceback": [
      "\u001b[1;31mThe Kernel crashed while executing code in the current cell or a previous cell. \n",
      "\u001b[1;31mPlease review the code in the cell(s) to identify a possible cause of the failure. \n",
      "\u001b[1;31mClick <a href='https://aka.ms/vscodeJupyterKernelCrash'>here</a> for more info. \n",
      "\u001b[1;31mView Jupyter <a href='command:jupyter.viewOutput'>log</a> for further details."
     ]
    }
   ],
   "source": [
    "# You may need to update the file paths\n",
    "up_file = upload_to_gemini(\"book_output.txt\", mime_type=\"text/plain\")\n"
   ]
  },
  {
   "cell_type": "code",
   "execution_count": null,
   "metadata": {
    "colab": {
     "base_uri": "https://localhost:8080/",
     "height": 245
    },
    "id": "PpA0_ex1-0F5",
    "outputId": "bb672178-722d-40f2-d246-3f4aeab1edb7"
   },
   "outputs": [
    {
     "name": "stdout",
     "output_type": "stream",
     "text": [
      "Kell is the last Antari—a magician with the rare ability to travel between parallel Londons. There's Grey London, Kell's world, dull and magicless; Red London, vibrant and full of magic; White London, once powerful, now decaying and ruled by ruthless twins; and Black London, destroyed by its own unchecked magic. Kell serves the royal family of Red London, acting as an ambassador and secretly smuggling trinkets between worlds.\n",
      "\n",
      "During a trip to Grey London, Kell is tricked into taking a dangerous artifact—a black stone marked with ancient magic from Black London. He soon realizes its immense power and the threat it poses, as it's sought by dangerous individuals, including Holland, the Antari of White London.\n",
      "\n",
      "In Grey London, Kell crosses paths with Lila Bard, a skilled thief with dreams of becoming a pirate.  Lila steals the stone from Kell, unwittingly unleashing its power and attracting Holland's attention.  Holland tortures Lila to find Kell, inadvertently bringing them together as uneasy allies.\n",
      "\n",
      "Kell, realizing the stone's destructive potential and knowing it must be returned to Black London, enlists Lila’s help. Their journey takes them through perilous encounters with the power-hungry Dane twins, who want the stone for themselves, and forces Kell to confront Holland, his magical counterpart, in a devastating duel.  \n",
      "\n",
      "Kell binds his life to his brother Rhy's after Rhy is mortally wounded by Astrid Dane, inhabiting Rhy’s body.  He and Lila eventually defeat the Danes, but at a great cost. Kell, now bound to the stone, prepares to travel to Black London, a one-way trip, to dispose of it. Lila, despite Kell’s protests, insists on accompanying him.\n",
      "\n",
      "In the end, Kell confronts a manifestation of the stone’s power, Vitari, within himself. Lila helps him break free, and they manage to send the stone and Holland, close to death, back to Black London. Kell believes he will never see Lila again, but magic reunites them in Red London. Though safe, they are now wanted criminals. The king and queen of Red London eventually pardon Kell and learn of the stone’s destruction. Lila, given a gift by Kell and encouraged by the head priest of the London Sanctuary, sets off to find her own destiny, sensing an untapped magic within herself.\n",
      "\n"
     ]
    }
   ],
   "source": [
    "response = model.generate_content([\"Give me a summary of this book\", up_file])\n",
    "print(response.text)"
   ]
  },
  {
   "cell_type": "code",
   "execution_count": null,
   "metadata": {
    "colab": {
     "base_uri": "https://localhost:8080/",
     "height": 280
    },
    "id": "gThj2SH9Elk2",
    "outputId": "a3cbcf9c-4ff0-4bfe-ac42-0d52b5bfe464"
   },
   "outputs": [
    {
     "name": "stdout",
     "output_type": "stream",
     "text": [
      "Several interwoven themes stand out in *A Darker Shade of Magic*:\n",
      "\n",
      "* **Power and Control:** This is perhaps the most prominent theme, explored through the different ways magic is perceived and wielded in each London. Red London emphasizes balance and responsibility, Grey London has forgotten magic, White London seeks to dominate and control it, and Black London was consumed by it.  Kell's struggle with the black stone exemplifies the seductive nature of power and the danger of losing control.  Athos and Astrid's desire for power motivates their plot.  Even Lila's thievery can be seen as a form of control, a way to exert agency in a world that often denies it to her.\n",
      "\n",
      "* **Family and Belonging:** Kell's ambiguous position within the Red London royal family highlights this theme.  He is loved and cared for, but also treated as a tool and possession.  His longing for true belonging contrasts sharply with Lila's fierce independence and lack of family.  The theme also touches on found family and the bonds we create, as seen in Kell's relationship with Rhy and, to a lesser extent, with Lila.\n",
      "\n",
      "* **Identity and Self-Discovery:** Both Kell and Lila are on journeys of self-discovery. Kell grapples with his past, his magical abilities, and his place in the world.  Lila seeks a life beyond the limitations of Grey London and explores the potential of her own untapped power. The masks and disguises they wear reflect this exploration of identity.\n",
      "\n",
      "* **Consequences and Sacrifice:**  The novel emphasizes the consequences of choices, both large and small.  Kell's smuggling has far-reaching repercussions, and the Danes' lust for power leads to destruction.  The theme of sacrifice is also present, particularly in Kell's willingness to risk his life for Rhy and the ultimate cost of using the black stone.\n",
      "\n",
      "* **Order vs. Chaos:** The different Londons represent varying degrees of order and chaos. Red London strives for balance, while White London embraces chaotic power struggles.  The black stone itself represents a dangerous form of chaos, a magic unbound by rules or restraint.\n",
      "\n",
      "* **Good vs. Evil:**  While the novel doesn't present a simple dichotomy of good and evil, it explores the complexities of morality.  Kell, despite his good intentions, makes questionable choices.  The Danes, driven by a desire to save their world, resort to brutal methods.  Even Lila's thievery has shades of grey.  The novel suggests that good and evil are not always clear-cut and that even well-intentioned actions can have negative consequences.\n",
      "\n"
     ]
    }
   ],
   "source": [
    "response = model.generate_content([\"What themes were prominent in the book?\", up_file])\n",
    "print(response.text)"
   ]
  },
  {
   "cell_type": "code",
   "execution_count": null,
   "metadata": {
    "colab": {
     "base_uri": "https://localhost:8080/",
     "height": 575
    },
    "id": "0LTAiXO1rDYK",
    "outputId": "9fff3be1-31fc-46cd-9412-a6c1722efeb1"
   },
   "outputs": [
    {
     "name": "stdout",
     "output_type": "stream",
     "text": [
      "Here are some open-ended questions to drive discussion about *A Darker Shade of Magic*:\n",
      "\n",
      "**Character & Motivation:**\n",
      "\n",
      "* Kell struggles with his identity as both a Maresh prince and an Antari. How does this internal conflict shape his actions and choices throughout the novel?  How does Lila's self-identification as a thief shape her worldview and influence her decisions? Compare and contrast their struggles with identity.\n",
      "* Lila's desire for freedom is a central theme. What does freedom truly mean to her, and how does her pursuit of it evolve as she experiences different worlds and encounters magic? How does her pursuit of freedom intersect with Kell’s sense of duty and obligation? Does either character achieve what they’re searching for?\n",
      "* Holland is presented as a complex and tragic figure. What motivates his actions, and how does his past experience with the Dane twins affect his choices? Is he ultimately a victim or a perpetrator?\n",
      "* The Dane twins share a hunger for power, but their methods and motivations differ. How do these differences play out in their interactions with each other and with other characters?  Do you find either twin more sympathetic than the other? Why or why not?\n",
      "\n",
      "**Magic & Worldbuilding:**\n",
      "\n",
      "* The novel explores different approaches to magic in each London. How do these varying perspectives on magic reflect the cultures and societies of Grey, Red, White, and Black London?\n",
      "* The concept of balance is central to the magic system.  Discuss the consequences of imbalance, as seen in the different Londons and in individual characters. What is the book saying about the relationship between power and responsibility?\n",
      "* The Antari are presented as unique and powerful beings.  What is the significance of their dwindling numbers, and what does it mean for the future of the different worlds?  What makes them so vulnerable, despite their abilities?\n",
      "* What are the implications of the existence of the black stone and its connection to Black London?  How does this artifact challenge existing beliefs about magic and its limitations?\n",
      "\n",
      "**Themes & Symbolism:**\n",
      "\n",
      "*  Explore the theme of belonging and identity in the novel. How do different characters grapple with their sense of belonging in their respective worlds?\n",
      "* Discuss the symbolism of the different colors associated with each London. How do these colors reflect the nature of magic and the state of each world?\n",
      "* The novel features a number of powerful objects, such as Kell's coat, the black stone, and the various tokens. What do these objects symbolize, and how do they contribute to the narrative?\n",
      "* Discuss the theme of sacrifice in the novel. What sacrifices do different characters make, and what are the consequences of these sacrifices?  Are some sacrifices more meaningful than others?\n",
      "\n",
      "**Narrative & Structure:**\n",
      "\n",
      "* The narrative shifts between the perspectives of Kell and Lila.  How does this structure contribute to the reader's understanding of the story and its themes? How does having access to both of their viewpoints shape your interpretation of the story?\n",
      "* The novel blends elements of fantasy, adventure, and romance.  How do these different genres work together to create a compelling narrative?  Do you think one genre is more prominent than the others?\n",
      "* The ending leaves certain questions unanswered.  What do you think is the significance of these ambiguities, and how do they set the stage for future installments in the series?  What do you think happens to Lila after she walks away from Kell?\n",
      "\n",
      "These open-ended questions are designed to encourage in-depth discussion and exploration of the various aspects of *A Darker Shade of Magic*. They can be used for book club discussions, classroom analysis, or simply for personal reflection on the novel.\n",
      "\n"
     ]
    }
   ],
   "source": [
    "response = model.generate_content([\"What would be some open ended questions that can drive discussion about aspects about this book?\", up_file])\n",
    "print(response.text)\n"
   ]
  },
  {
   "cell_type": "code",
   "execution_count": null,
   "metadata": {
    "colab": {
     "base_uri": "https://localhost:8080/",
     "height": 853
    },
    "id": "JUMnHXywHVwI",
    "outputId": "08e25f66-8ce0-4696-f39f-af5a344bd646"
   },
   "outputs": [
    {
     "name": "stdout",
     "output_type": "stream",
     "text": [
      "**1. Kell:** An Antari, a blood magician, and the last surviving Antari of Red London. He is the adopted son of the Maresh royal family but feels more like a possession than a true member. He smuggles trinkets between the different Londons, a dangerous and illegal activity that creates the central conflict.\n",
      "\n",
      "**2. Lila Bard:** A skilled thief and aspiring pirate in Grey London. She is cunning, resourceful, and fiercely independent. After stealing a magical stone from Kell, she becomes entangled in his quest and travels with him to other Londons.\n",
      "\n",
      "**3. Rhy Maresh:** The charming and beloved prince of Red London. Though lacking in magical ability, he is Kell's closest friend and confidant. His abduction by a group known as the Shadows and subsequent possession by Astrid Dane creates a major turning point in the story.\n",
      "\n",
      "**4. Holland:** An Antari bound to the service of the Dane twins in White London. He is a more experienced and ruthless magician than Kell, haunted by his past and the loss of his own London. He serves as a foil to Kell and a persistent threat.\n",
      "\n",
      "**5. Astrid Dane:** The ruthless and power-hungry queen of White London. She covets Kell's power and the magical stone, aiming to use them to conquer Red London and restore balance—or rather, dominance—to the worlds.\n",
      "\n",
      "**6. Athos Dane:** The equally ruthless king of White London and Astrid's twin brother. He shares her ambition and cruelty, specializing in binding spells and relishing the suffering of others.\n",
      "\n",
      "**7. King Maxim:** The king of Red London and Kell's adoptive father. He is a strong and just ruler, concerned for the well-being of his kingdom and his family.\n",
      "\n",
      "**8. Queen Emira:** The queen of Red London and Kell's adoptive mother. She is perceptive and protective of Kell, sensing the darkness within him but also his loyalty.\n",
      "\n",
      "**9. Tieren Serense:** The head priest of the London Sanctuary and Kell's tutor. He is a wise and knowledgeable scholar of magic, offering Kell guidance and sanctuary.\n",
      "\n",
      "**10. Barron:** The owner of the Stone's Throw tavern in Grey London. He provides Lila with a safe haven and acts as a reluctant mentor.\n",
      "\n",
      "**11.  Powell:** The previous owner of the Sea King, Lila's temporary landlord, and a drunkard. His demise sets Lila's story in motion.\n",
      "\n",
      "**12.  Gen:** One of Rhy's personal guards. He is possessed by the darkness from the stone and ultimately kills Parrish before being dispelled.\n",
      "\n",
      "**13.  Parrish:** One of Rhy's personal guards and an admirer of Kell. He is killed by Gen after the latter's possession.\n",
      "\n",
      "**14.  Ned (Edward Archibald Tuttle):** A magic enthusiast in Grey London who seeks to purchase a piece of another world from Kell. His desire for magic highlights the allure and danger of forbidden knowledge.\n",
      "\n",
      "**15. The Collector:** A wealthy individual in Grey London who trades rare items with Kell. He represents the desire for novelty and the allure of the unknown.\n",
      "\n",
      "**16.  Fauna:** The owner of the Ruby Fields inn in Red London where Kell keeps a secret room.\n",
      "\n",
      "**17.  Calla:** A merchant in Red London who provides Lila with clothing for the masquerade.\n",
      "\n",
      "**18.  Fletcher:** A fence and magic dealer in Red London who holds a White London token that Kell seeks.\n",
      "\n",
      "**19.  Beloc:** A young guard compelled by Athos to guard the throne room in White London.  His tragic story highlights the Danes' ruthlessness and control.\n",
      "\n",
      "**20. Booth:** A drunkard in Grey London whose body is taken by the darkness from the stone. He represents the vulnerability of those without magical ability.\n",
      "\n",
      "**21. George III (Mad King George):** The ailing King of England in Grey London. Kell delivers messages to him as part of his duties, but the king's madness and confinement symbolize the forgotten magic of the Grey world.\n",
      "\n",
      "**22. George IV (Prince Regent):**  The Prince Regent of Grey London, Kell finds him arrogant and uninterested in magic.\n",
      "\n",
      "\n",
      "It's important to remember that importance can be subjective and based on different interpretations. This ranking focuses on the characters' direct involvement in the plot and their impact on the story's progression.\n",
      "\n"
     ]
    }
   ],
   "source": [
    "response = model.generate_content([\"Produce a description of all the characters in the book. List it from most important in the book to least.\", up_file])\n",
    "print(response.text)"
   ]
  },
  {
   "cell_type": "code",
   "execution_count": null,
   "metadata": {
    "colab": {
     "base_uri": "https://localhost:8080/",
     "height": 69
    },
    "id": "Jdt2tyEwxQKX",
    "outputId": "b8e48440-7d4f-4c21-d368-df26a6d2bdb6"
   },
   "outputs": [
    {
     "name": "stdout",
     "output_type": "stream",
     "text": [
      "Uploaded files:\n",
      "- book_output.txt\n",
      "- book_output.txt\n"
     ]
    }
   ],
   "source": [
    "display_uploaded_files()"
   ]
  },
  {
   "cell_type": "code",
   "execution_count": null,
   "metadata": {
    "id": "NYD0xOBBxyn3"
   },
   "outputs": [],
   "source": [
    "# clear_uploaded_files()"
   ]
  }
 ],
 "metadata": {
  "colab": {
   "include_colab_link": true,
   "provenance": []
  },
  "kernelspec": {
   "display_name": "gemini_work",
   "language": "python",
   "name": "python3"
  },
  "language_info": {
   "codemirror_mode": {
    "name": "ipython",
    "version": 3
   },
   "file_extension": ".py",
   "mimetype": "text/x-python",
   "name": "python",
   "nbconvert_exporter": "python",
   "pygments_lexer": "ipython3",
   "version": "3.13.0"
  }
 },
 "nbformat": 4,
 "nbformat_minor": 0
}
