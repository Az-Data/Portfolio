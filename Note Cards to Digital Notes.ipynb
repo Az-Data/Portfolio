{
 "cells": [
  {
   "cell_type": "markdown",
   "metadata": {},
   "source": [
    "# Note Cards to Digital Notes\n",
    "\n",
    "I have a lot of physical cue cards that I need to place in my obsidian notes. So I created a script that uses Google's Vision API and OpenAI's API to extract the text from the pictures of my Note cards and place the text in a text file. "
   ]
  },
  {
   "cell_type": "code",
   "execution_count": 1,
   "metadata": {},
   "outputs": [],
   "source": [
    "from google.cloud import vision\n",
    "from google.cloud.vision_v1 import types\n",
    "from dotenv import load_dotenv, find_dotenv\n",
    "import os\n",
    "\n",
    "load_dotenv(find_dotenv())\n",
    "\n",
    "os.environ[\"GOOGLE_APPLICATION_CREDENTIALS\"] = \"serviceAccountCred.json\""
   ]
  },
  {
   "cell_type": "code",
   "execution_count": 2,
   "metadata": {},
   "outputs": [],
   "source": [
    "from google.cloud import vision\n",
    "import io\n",
    "\n",
    "def extract_text(image_path):\n",
    "    client = vision.ImageAnnotatorClient()\n",
    "\n",
    "    with io.open(image_path, 'rb') as image_file:\n",
    "        content = image_file.read()\n",
    "\n",
    "    image = vision.Image(content=content)\n",
    "    response = client.text_detection(image=image)\n",
    "    texts = response.text_annotations\n",
    "\n",
    "    if response.error.message:\n",
    "        raise Exception(response.error.message)\n",
    "\n",
    "    # Extracted text\n",
    "    return texts[0].description if texts else \"\"\n"
   ]
  },
  {
   "cell_type": "code",
   "execution_count": 3,
   "metadata": {},
   "outputs": [],
   "source": [
    "import openai\n",
    "\n",
    "openai.api_key = os.environ.get('OPENAI_API_KEY')\n",
    "client = openai.OpenAI()\n",
    "\n",
    "def process_text(extracted_text):\n",
    "\n",
    "    messages = [\n",
    "            {\"role\": \"system\", \"content\": \"There are sometimes titles and subtitles in the first few lines, create a new line when this occurs. Be sure to eliminate any other new lines\"},\n",
    "            {\"role\": \"system\", \"content\": \"If the first set of letters are 'DG' or similar Convert to label '*Daring Greatly*', If the first set of letters are 'TGOI' or similar Convert to label '*The gift of imperfection*', if it is neither use the previous label\"},\n",
    "            {\"role\": \"user\", \"content\": f\"Process this extracted text and stay as close to the orginal text as possible as well as making the text grammtically correct: {extracted_text}\"}\n",
    "        ]\n",
    "        \n",
    "    # Generate a response from the model\n",
    "    response = client.chat.completions.create(\n",
    "        model=\"gpt-4o-mini\",\n",
    "        messages=messages,\n",
    "        response_format={\"type\": \"text\"},\n",
    "    )\n",
    "    \n",
    "    # Return the assistant's message (the cover letter)\n",
    "    return response.choices[0].message.content\n",
    "\n"
   ]
  },
  {
   "cell_type": "code",
   "execution_count": 4,
   "metadata": {},
   "outputs": [
    {
     "name": "stdout",
     "output_type": "stream",
     "text": [
      "Processing complete. View the BreneBrownNotes.txt\n"
     ]
    }
   ],
   "source": [
    "\n",
    "# Define the folder path\n",
    "folder_path = r\"Data/Note Card Pictures\"\n",
    "\n",
    "# Loop through each file in the folder\n",
    "for filename in os.listdir(folder_path):\n",
    "    # Making sure to only process the .jpg images\n",
    "    if filename.lower().endswith(\".jpg\"):\n",
    "        # Construct the full path to the image\n",
    "        image_path = os.path.join(folder_path, filename)\n",
    "\n",
    "        extracted_text = extract_text(image_path)\n",
    "        processed_text = process_text(extracted_text)\n",
    "        \n",
    "        # save to the text file, so I can copy it later into my obsidian notes\n",
    "        with open(\"BreneBrownNotes.txt\", \"a\") as f:\n",
    "            f.write(processed_text + \"\\n\\n\\n\\n\")  # Add a newline between paragraphs for readability\n",
    "\n",
    "print(\"Processing complete. View the BreneBrownNotes.txt.\")\n"
   ]
  },
  {
   "cell_type": "code",
   "execution_count": null,
   "metadata": {},
   "outputs": [],
   "source": []
  }
 ],
 "metadata": {
  "kernelspec": {
   "display_name": "base",
   "language": "python",
   "name": "python3"
  },
  "language_info": {
   "codemirror_mode": {
    "name": "ipython",
    "version": 3
   },
   "file_extension": ".py",
   "mimetype": "text/x-python",
   "name": "python",
   "nbconvert_exporter": "python",
   "pygments_lexer": "ipython3",
   "version": "3.12.3"
  }
 },
 "nbformat": 4,
 "nbformat_minor": 2
}
