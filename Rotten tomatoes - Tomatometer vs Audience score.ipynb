{
  "cells": [
    {
      "cell_type": "markdown",
      "metadata": {
        "id": "view-in-github",
        "colab_type": "text"
      },
      "source": [
        "<a href=\"https://colab.research.google.com/github/Az-Data/Portfolio/blob/master/Rotten%20tomatoes%20-%20Tomatometer%20vs%20Audience%20score.ipynb\" target=\"_parent\"><img src=\"https://colab.research.google.com/assets/colab-badge.svg\" alt=\"Open In Colab\"/></a>"
      ]
    },
    {
      "cell_type": "markdown",
      "metadata": {
        "tags": [],
        "id": "SOCanfWsKjc7"
      },
      "source": [
        "# Tomatometer vs Audience score\n",
        "\n",
        "Rotten tomatoes (RT) is a 'Review aggregation website' whose primary function is to rate movies and TV shows. Here professional critics review and rate the piece, and the website produces an aggregation of that score which they call the tomatometer. Rotten tomatoes also presents another score, the audience score, which is an aggregate of reviews by passionate movie viewers. Besides the famous review scores, Rotten tomatoes also contains information on cast, personal biographies, plot summaries, list posts as well as a podcast. The dataset was obtained of Kaggle: https://bit.ly/32Pf6Q6. I would like to compare the two sets of scores in few different ways:\n",
        "\n",
        "1) Visualise the distributions of the two sets of scores in a simple histogram.\n",
        "\n",
        "2) We will be using a T-test to test if the difference in the means of the two sets of scores are statistically significant.\n",
        "\n",
        "3) Visualise and compare the relative difference between the audience score and the tomatometer score for each movie."
      ]
    },
    {
      "cell_type": "markdown",
      "source": [
        "## Setup"
      ],
      "metadata": {
        "id": "hkYHx7WhKw7_"
      }
    },
    {
      "cell_type": "code",
      "source": [
        "import requests\n",
        "import os\n",
        "import runpy\n",
        "\n",
        "url = \"https://raw.githubusercontent.com/Az-Data/Portfolio/master/utilities.py\"\n",
        "file_name = \"utilities.py\"  # Name to save the file locally\n",
        "\n",
        "# Download the utilites setup file\n",
        "response = requests.get(url)\n",
        "if response.status_code == 200:\n",
        "    with open(file_name, \"wb\") as f:\n",
        "        f.write(response.content)\n",
        "    print(f\"{file_name} downloaded successfully.\")\n",
        "else:\n",
        "    print(\"Failed to download the file.\")"
      ],
      "metadata": {
        "id": "skw6iQ9UKwD1",
        "outputId": "63a21f7b-3072-46cf-d165-8f25cdffbed1",
        "colab": {
          "base_uri": "https://localhost:8080/"
        }
      },
      "execution_count": 1,
      "outputs": [
        {
          "output_type": "stream",
          "name": "stdout",
          "text": [
            "utilities.py downloaded successfully.\n"
          ]
        }
      ]
    },
    {
      "cell_type": "code",
      "source": [
        "# Executing the utilities.py file\n",
        "%%capture\n",
        "%run utilities.py"
      ],
      "metadata": {
        "id": "ZNnrsrtVK4BO"
      },
      "execution_count": 2,
      "outputs": []
    },
    {
      "cell_type": "markdown",
      "metadata": {
        "tags": [],
        "id": "RjoVKFCwKjc_"
      },
      "source": [
        "## Preparing the data"
      ]
    },
    {
      "cell_type": "code",
      "execution_count": 3,
      "metadata": {
        "id": "2jtK_QWMKjc_"
      },
      "outputs": [],
      "source": [
        "import pandas as pd\n",
        "import matplotlib.pyplot as plt\n",
        "import seaborn as sns\n",
        "import numpy as np\n",
        "plt.rcParams['figure.figsize'] = [14, 10]\n",
        "sns.set_style('white')\n",
        "\n",
        "import warnings\n",
        "warnings.filterwarnings(action = 'ignore')"
      ]
    },
    {
      "cell_type": "code",
      "execution_count": 5,
      "metadata": {
        "id": "SWe2A7qmKjdB",
        "outputId": "88468006-beeb-4cb6-951a-ae254b090486",
        "colab": {
          "base_uri": "https://localhost:8080/",
          "height": 225
        }
      },
      "outputs": [
        {
          "output_type": "display_data",
          "data": {
            "text/plain": [
              "'size of dataset: 16386'"
            ],
            "application/vnd.google.colaboratory.intrinsic+json": {
              "type": "string"
            }
          },
          "metadata": {}
        },
        {
          "output_type": "display_data",
          "data": {
            "text/plain": [
              "                                         movie_title  tomatometer_rating  \\\n",
              "0  Percy Jackson & the Olympians: The Lightning T...                  49   \n",
              "1                                        Please Give                  86   \n",
              "2                                                 10                  68   \n",
              "3                    12 Angry Men (Twelve Angry Men)                 100   \n",
              "4                       20,000 Leagues Under The Sea                  89   \n",
              "\n",
              "   audience_rating  \n",
              "0               53  \n",
              "1               64  \n",
              "2               53  \n",
              "3               97  \n",
              "4               74  "
            ],
            "text/html": [
              "\n",
              "  <div id=\"df-b6792a82-1116-4967-b69d-798c1b72654c\" class=\"colab-df-container\">\n",
              "    <div>\n",
              "<style scoped>\n",
              "    .dataframe tbody tr th:only-of-type {\n",
              "        vertical-align: middle;\n",
              "    }\n",
              "\n",
              "    .dataframe tbody tr th {\n",
              "        vertical-align: top;\n",
              "    }\n",
              "\n",
              "    .dataframe thead th {\n",
              "        text-align: right;\n",
              "    }\n",
              "</style>\n",
              "<table border=\"1\" class=\"dataframe\">\n",
              "  <thead>\n",
              "    <tr style=\"text-align: right;\">\n",
              "      <th></th>\n",
              "      <th>movie_title</th>\n",
              "      <th>tomatometer_rating</th>\n",
              "      <th>audience_rating</th>\n",
              "    </tr>\n",
              "  </thead>\n",
              "  <tbody>\n",
              "    <tr>\n",
              "      <th>0</th>\n",
              "      <td>Percy Jackson &amp; the Olympians: The Lightning T...</td>\n",
              "      <td>49</td>\n",
              "      <td>53</td>\n",
              "    </tr>\n",
              "    <tr>\n",
              "      <th>1</th>\n",
              "      <td>Please Give</td>\n",
              "      <td>86</td>\n",
              "      <td>64</td>\n",
              "    </tr>\n",
              "    <tr>\n",
              "      <th>2</th>\n",
              "      <td>10</td>\n",
              "      <td>68</td>\n",
              "      <td>53</td>\n",
              "    </tr>\n",
              "    <tr>\n",
              "      <th>3</th>\n",
              "      <td>12 Angry Men (Twelve Angry Men)</td>\n",
              "      <td>100</td>\n",
              "      <td>97</td>\n",
              "    </tr>\n",
              "    <tr>\n",
              "      <th>4</th>\n",
              "      <td>20,000 Leagues Under The Sea</td>\n",
              "      <td>89</td>\n",
              "      <td>74</td>\n",
              "    </tr>\n",
              "  </tbody>\n",
              "</table>\n",
              "</div>\n",
              "    <div class=\"colab-df-buttons\">\n",
              "\n",
              "  <div class=\"colab-df-container\">\n",
              "    <button class=\"colab-df-convert\" onclick=\"convertToInteractive('df-b6792a82-1116-4967-b69d-798c1b72654c')\"\n",
              "            title=\"Convert this dataframe to an interactive table.\"\n",
              "            style=\"display:none;\">\n",
              "\n",
              "  <svg xmlns=\"http://www.w3.org/2000/svg\" height=\"24px\" viewBox=\"0 -960 960 960\">\n",
              "    <path d=\"M120-120v-720h720v720H120Zm60-500h600v-160H180v160Zm220 220h160v-160H400v160Zm0 220h160v-160H400v160ZM180-400h160v-160H180v160Zm440 0h160v-160H620v160ZM180-180h160v-160H180v160Zm440 0h160v-160H620v160Z\"/>\n",
              "  </svg>\n",
              "    </button>\n",
              "\n",
              "  <style>\n",
              "    .colab-df-container {\n",
              "      display:flex;\n",
              "      gap: 12px;\n",
              "    }\n",
              "\n",
              "    .colab-df-convert {\n",
              "      background-color: #E8F0FE;\n",
              "      border: none;\n",
              "      border-radius: 50%;\n",
              "      cursor: pointer;\n",
              "      display: none;\n",
              "      fill: #1967D2;\n",
              "      height: 32px;\n",
              "      padding: 0 0 0 0;\n",
              "      width: 32px;\n",
              "    }\n",
              "\n",
              "    .colab-df-convert:hover {\n",
              "      background-color: #E2EBFA;\n",
              "      box-shadow: 0px 1px 2px rgba(60, 64, 67, 0.3), 0px 1px 3px 1px rgba(60, 64, 67, 0.15);\n",
              "      fill: #174EA6;\n",
              "    }\n",
              "\n",
              "    .colab-df-buttons div {\n",
              "      margin-bottom: 4px;\n",
              "    }\n",
              "\n",
              "    [theme=dark] .colab-df-convert {\n",
              "      background-color: #3B4455;\n",
              "      fill: #D2E3FC;\n",
              "    }\n",
              "\n",
              "    [theme=dark] .colab-df-convert:hover {\n",
              "      background-color: #434B5C;\n",
              "      box-shadow: 0px 1px 3px 1px rgba(0, 0, 0, 0.15);\n",
              "      filter: drop-shadow(0px 1px 2px rgba(0, 0, 0, 0.3));\n",
              "      fill: #FFFFFF;\n",
              "    }\n",
              "  </style>\n",
              "\n",
              "    <script>\n",
              "      const buttonEl =\n",
              "        document.querySelector('#df-b6792a82-1116-4967-b69d-798c1b72654c button.colab-df-convert');\n",
              "      buttonEl.style.display =\n",
              "        google.colab.kernel.accessAllowed ? 'block' : 'none';\n",
              "\n",
              "      async function convertToInteractive(key) {\n",
              "        const element = document.querySelector('#df-b6792a82-1116-4967-b69d-798c1b72654c');\n",
              "        const dataTable =\n",
              "          await google.colab.kernel.invokeFunction('convertToInteractive',\n",
              "                                                    [key], {});\n",
              "        if (!dataTable) return;\n",
              "\n",
              "        const docLinkHtml = 'Like what you see? Visit the ' +\n",
              "          '<a target=\"_blank\" href=https://colab.research.google.com/notebooks/data_table.ipynb>data table notebook</a>'\n",
              "          + ' to learn more about interactive tables.';\n",
              "        element.innerHTML = '';\n",
              "        dataTable['output_type'] = 'display_data';\n",
              "        await google.colab.output.renderOutput(dataTable, element);\n",
              "        const docLink = document.createElement('div');\n",
              "        docLink.innerHTML = docLinkHtml;\n",
              "        element.appendChild(docLink);\n",
              "      }\n",
              "    </script>\n",
              "  </div>\n",
              "\n",
              "\n",
              "<div id=\"df-f457926e-54f6-4f7e-bc3a-275bf20b741d\">\n",
              "  <button class=\"colab-df-quickchart\" onclick=\"quickchart('df-f457926e-54f6-4f7e-bc3a-275bf20b741d')\"\n",
              "            title=\"Suggest charts\"\n",
              "            style=\"display:none;\">\n",
              "\n",
              "<svg xmlns=\"http://www.w3.org/2000/svg\" height=\"24px\"viewBox=\"0 0 24 24\"\n",
              "     width=\"24px\">\n",
              "    <g>\n",
              "        <path d=\"M19 3H5c-1.1 0-2 .9-2 2v14c0 1.1.9 2 2 2h14c1.1 0 2-.9 2-2V5c0-1.1-.9-2-2-2zM9 17H7v-7h2v7zm4 0h-2V7h2v10zm4 0h-2v-4h2v4z\"/>\n",
              "    </g>\n",
              "</svg>\n",
              "  </button>\n",
              "\n",
              "<style>\n",
              "  .colab-df-quickchart {\n",
              "      --bg-color: #E8F0FE;\n",
              "      --fill-color: #1967D2;\n",
              "      --hover-bg-color: #E2EBFA;\n",
              "      --hover-fill-color: #174EA6;\n",
              "      --disabled-fill-color: #AAA;\n",
              "      --disabled-bg-color: #DDD;\n",
              "  }\n",
              "\n",
              "  [theme=dark] .colab-df-quickchart {\n",
              "      --bg-color: #3B4455;\n",
              "      --fill-color: #D2E3FC;\n",
              "      --hover-bg-color: #434B5C;\n",
              "      --hover-fill-color: #FFFFFF;\n",
              "      --disabled-bg-color: #3B4455;\n",
              "      --disabled-fill-color: #666;\n",
              "  }\n",
              "\n",
              "  .colab-df-quickchart {\n",
              "    background-color: var(--bg-color);\n",
              "    border: none;\n",
              "    border-radius: 50%;\n",
              "    cursor: pointer;\n",
              "    display: none;\n",
              "    fill: var(--fill-color);\n",
              "    height: 32px;\n",
              "    padding: 0;\n",
              "    width: 32px;\n",
              "  }\n",
              "\n",
              "  .colab-df-quickchart:hover {\n",
              "    background-color: var(--hover-bg-color);\n",
              "    box-shadow: 0 1px 2px rgba(60, 64, 67, 0.3), 0 1px 3px 1px rgba(60, 64, 67, 0.15);\n",
              "    fill: var(--button-hover-fill-color);\n",
              "  }\n",
              "\n",
              "  .colab-df-quickchart-complete:disabled,\n",
              "  .colab-df-quickchart-complete:disabled:hover {\n",
              "    background-color: var(--disabled-bg-color);\n",
              "    fill: var(--disabled-fill-color);\n",
              "    box-shadow: none;\n",
              "  }\n",
              "\n",
              "  .colab-df-spinner {\n",
              "    border: 2px solid var(--fill-color);\n",
              "    border-color: transparent;\n",
              "    border-bottom-color: var(--fill-color);\n",
              "    animation:\n",
              "      spin 1s steps(1) infinite;\n",
              "  }\n",
              "\n",
              "  @keyframes spin {\n",
              "    0% {\n",
              "      border-color: transparent;\n",
              "      border-bottom-color: var(--fill-color);\n",
              "      border-left-color: var(--fill-color);\n",
              "    }\n",
              "    20% {\n",
              "      border-color: transparent;\n",
              "      border-left-color: var(--fill-color);\n",
              "      border-top-color: var(--fill-color);\n",
              "    }\n",
              "    30% {\n",
              "      border-color: transparent;\n",
              "      border-left-color: var(--fill-color);\n",
              "      border-top-color: var(--fill-color);\n",
              "      border-right-color: var(--fill-color);\n",
              "    }\n",
              "    40% {\n",
              "      border-color: transparent;\n",
              "      border-right-color: var(--fill-color);\n",
              "      border-top-color: var(--fill-color);\n",
              "    }\n",
              "    60% {\n",
              "      border-color: transparent;\n",
              "      border-right-color: var(--fill-color);\n",
              "    }\n",
              "    80% {\n",
              "      border-color: transparent;\n",
              "      border-right-color: var(--fill-color);\n",
              "      border-bottom-color: var(--fill-color);\n",
              "    }\n",
              "    90% {\n",
              "      border-color: transparent;\n",
              "      border-bottom-color: var(--fill-color);\n",
              "    }\n",
              "  }\n",
              "</style>\n",
              "\n",
              "  <script>\n",
              "    async function quickchart(key) {\n",
              "      const quickchartButtonEl =\n",
              "        document.querySelector('#' + key + ' button');\n",
              "      quickchartButtonEl.disabled = true;  // To prevent multiple clicks.\n",
              "      quickchartButtonEl.classList.add('colab-df-spinner');\n",
              "      try {\n",
              "        const charts = await google.colab.kernel.invokeFunction(\n",
              "            'suggestCharts', [key], {});\n",
              "      } catch (error) {\n",
              "        console.error('Error during call to suggestCharts:', error);\n",
              "      }\n",
              "      quickchartButtonEl.classList.remove('colab-df-spinner');\n",
              "      quickchartButtonEl.classList.add('colab-df-quickchart-complete');\n",
              "    }\n",
              "    (() => {\n",
              "      let quickchartButtonEl =\n",
              "        document.querySelector('#df-f457926e-54f6-4f7e-bc3a-275bf20b741d button');\n",
              "      quickchartButtonEl.style.display =\n",
              "        google.colab.kernel.accessAllowed ? 'block' : 'none';\n",
              "    })();\n",
              "  </script>\n",
              "</div>\n",
              "\n",
              "    </div>\n",
              "  </div>\n"
            ],
            "application/vnd.google.colaboratory.intrinsic+json": {
              "type": "dataframe",
              "summary": "{\n  \"name\": \"display(rt_ratings\",\n  \"rows\": 5,\n  \"fields\": [\n    {\n      \"column\": \"movie_title\",\n      \"properties\": {\n        \"dtype\": \"string\",\n        \"num_unique_values\": 5,\n        \"samples\": [\n          \"Please Give\",\n          \"20,000 Leagues Under The Sea\",\n          \"10\"\n        ],\n        \"semantic_type\": \"\",\n        \"description\": \"\"\n      }\n    },\n    {\n      \"column\": \"tomatometer_rating\",\n      \"properties\": {\n        \"dtype\": \"number\",\n        \"std\": 20,\n        \"min\": 49,\n        \"max\": 100,\n        \"num_unique_values\": 5,\n        \"samples\": [\n          86,\n          89,\n          68\n        ],\n        \"semantic_type\": \"\",\n        \"description\": \"\"\n      }\n    },\n    {\n      \"column\": \"audience_rating\",\n      \"properties\": {\n        \"dtype\": \"number\",\n        \"std\": 18,\n        \"min\": 53,\n        \"max\": 97,\n        \"num_unique_values\": 4,\n        \"samples\": [\n          64,\n          74,\n          53\n        ],\n        \"semantic_type\": \"\",\n        \"description\": \"\"\n      }\n    }\n  ]\n}"
            }
          },
          "metadata": {}
        }
      ],
      "source": [
        "# rotten tomatoes data\n",
        "rt = pd.read_csv(r'Data/rotten_tomatoes_movies.csv')\n",
        "\n",
        "#display(rt.head())\n",
        "\n",
        "# reducing the dataset down to just the movie title, and the two scores\n",
        "rt_ratings = rt[['movie_title', 'tomatometer_rating', 'audience_rating']]\n",
        "rt_ratings.dropna(inplace=True)\n",
        "rt_ratings['audience_rating'] = rt_ratings['audience_rating'].astype(int)\n",
        "\n",
        "display(f'size of dataset: {len(rt_ratings)}')\n",
        "display(rt_ratings.head())"
      ]
    },
    {
      "cell_type": "markdown",
      "metadata": {
        "id": "3KZAOxWXKjdD"
      },
      "source": [
        "# Plotting the distribution of the scores"
      ]
    },
    {
      "cell_type": "code",
      "execution_count": 6,
      "metadata": {
        "id": "J1PvTERuKjdD",
        "outputId": "8549dd1c-02ec-47ea-9b33-240d23a07fe9",
        "colab": {
          "base_uri": "https://localhost:8080/",
          "height": 878
        }
      },
      "outputs": [
        {
          "output_type": "display_data",
          "data": {
            "text/plain": [
              "<Figure size 1400x1000 with 1 Axes>"
            ],
            "image/png": "[encoded data removed]"
          },
          "metadata": {}
        }
      ],
      "source": [
        "def distribution_plot(series, title, x_label, bar_color='tab:red'):\n",
        "    \"\"\"\n",
        "    Creates a histogram of the input series with 100 bins.\n",
        "\n",
        "    Input:\n",
        "    series - pandas series\n",
        "    title - (string) title of histogram\n",
        "    x_label - x-axis label\n",
        "    bar_color - color of the bars in the histogram (default: 'tab: red')\n",
        "\n",
        "    Output:\n",
        "    Histogram of input series with 100 bins\n",
        "    \"\"\"\n",
        "    series.sort_values().plot(kind='hist', bins=100, color=bar_color)\n",
        "    sns.despine(bottom=True, left=True)\n",
        "    plt.xlabel(x_label, fontsize=13)\n",
        "    plt.ylabel('Frequency', fontsize=13)\n",
        "    plt.title(title, fontsize=15)\n",
        "    plt.show\n",
        "\n",
        "# distribution of the tomatometer ratings\n",
        "distribution_plot(rt_ratings['tomatometer_rating'],\n",
        "                  title='Tomatometer Distribution',\n",
        "                  x_label='Tomatometer Score')"
      ]
    },
    {
      "cell_type": "code",
      "execution_count": 7,
      "metadata": {
        "id": "xjb8iM4-KjdE",
        "outputId": "32f868d9-dbb1-4ed4-ce56-5ad39e89d011",
        "colab": {
          "base_uri": "https://localhost:8080/",
          "height": 878
        }
      },
      "outputs": [
        {
          "output_type": "display_data",
          "data": {
            "text/plain": [
              "<Figure size 1400x1000 with 1 Axes>"
            ],
            "image/png": "[encoded data removed]"
          },
          "metadata": {}
        }
      ],
      "source": [
        "# distribution of the audience score\n",
        "distribution_plot(rt_ratings['audience_rating'],\n",
        "                  title='Audience Score Distribution',\n",
        "                  bar_color='tab:green',\n",
        "                  x_label='Audience Score')"
      ]
    },
    {
      "cell_type": "markdown",
      "metadata": {
        "id": "rOElIKiaKjdF"
      },
      "source": [
        "The audience score is far more normally distributed compared to the critics scores. This is very interesting, because it shows that there is more consensus between the audience compared to the critics.\n",
        "\n",
        "I am not sure how appropriate it would be to do the statistical test to compare the two sample means, when one of the sets of data is not normally distributed, but we will find out how well the t-test preforms."
      ]
    },
    {
      "cell_type": "markdown",
      "metadata": {
        "id": "mV8rTC54KjdF"
      },
      "source": [
        "## Paired t-test\n",
        "\n",
        "So the parameters is as follows:\n",
        "- We have a large sample (n > 30).\n",
        "- With continous variables needed to be tested (audience score and tomatometer score).\n",
        "- We have two sets of paired samples, since each movie has a corresponding tomatometer score and an audience score.\n",
        "So we prefrom a <b>Paired t-test</b> from the scipy module."
      ]
    },
    {
      "cell_type": "markdown",
      "metadata": {
        "id": "VNEjqsjuKjdF"
      },
      "source": [
        "### Hypothesis testing\n",
        "\n",
        "Null hypothesis: The means are not different.\n",
        "\n",
        "$$H_0 : \\mu_t = \\mu_a$$\n",
        "\n",
        "Where $\\mu_t$ is the tomatometer score mean, and $\\mu_a$ is the audience score mean.\n",
        "\n",
        "Alternative hypothesis: There is a difference between the means of the tomatometer and audience scores.\n",
        "\n",
        "$$H_1 : \\mu_t \\neq \\mu_a$$\n",
        "\n",
        "We will pick the confidence interval at 95%.\n",
        "\n",
        "$$\\alpha = 0.05$$"
      ]
    },
    {
      "cell_type": "code",
      "execution_count": 8,
      "metadata": {
        "id": "REWXDlJ5KjdG",
        "outputId": "accbb6fe-79ed-4936-a3e9-5ae5d0308fd1",
        "colab": {
          "base_uri": "https://localhost:8080/",
          "height": 34
        }
      },
      "outputs": [
        {
          "output_type": "display_data",
          "data": {
            "text/plain": [
              "TtestResult(statistic=-0.8492704023702629, pvalue=0.3957432542089552, df=16385)"
            ]
          },
          "metadata": {}
        }
      ],
      "source": [
        "from scipy import stats\n",
        "\n",
        "test_statistic = stats.ttest_rel(rt_ratings['tomatometer_rating'], rt_ratings['audience_rating'])\n",
        "\n",
        "display(test_statistic)"
      ]
    },
    {
      "cell_type": "markdown",
      "metadata": {
        "id": "fGsTBC2bKjdG"
      },
      "source": [
        "The result:\n",
        "$$t = -0.849 $$\n",
        "$$p = 0.396 $$\n",
        "\n",
        "$p > \\alpha$ Therefore we fail to reject the null hypothesis."
      ]
    },
    {
      "cell_type": "markdown",
      "metadata": {
        "id": "P6hOsr7cKjdG"
      },
      "source": [
        "## Relative difference between scores\n",
        "\n",
        "I want to calculate the difference between each pair of scores for each movie, we will call this the relative difference. We will create a new column and call it 'diff'. If:\n",
        "\n",
        "$diff < 0$ -> RT Audience are more critical\n",
        "\n",
        "$diff > 0$ -> RT critics are more critical\n",
        "\n",
        "$diff = 0$ -> RT critics and audience agree\n",
        "\n",
        "We can visualise this in a stacked bar graph.\n",
        "\n",
        "\n",
        "### Stacked bar graph of relative differences"
      ]
    },
    {
      "cell_type": "code",
      "execution_count": 9,
      "metadata": {
        "id": "6TUb20cnKjdG",
        "outputId": "f1ef6f47-6e9f-4896-e65b-7223da271a74",
        "colab": {
          "base_uri": "https://localhost:8080/",
          "height": 424
        }
      },
      "outputs": [
        {
          "output_type": "execute_result",
          "data": {
            "text/plain": [
              "                                             movie_title  tomatometer_rating  \\\n",
              "0      Percy Jackson & the Olympians: The Lightning T...                  49   \n",
              "1                                            Please Give                  86   \n",
              "2                                                     10                  68   \n",
              "3                        12 Angry Men (Twelve Angry Men)                 100   \n",
              "4                           20,000 Leagues Under The Sea                  89   \n",
              "...                                                  ...                 ...   \n",
              "16633                                          Zoot Suit                  56   \n",
              "16634                                           Zootopia                  97   \n",
              "16635                                    Zorba the Greek                  78   \n",
              "16636                                               Zulu                  95   \n",
              "16637                                          Zulu Dawn                  57   \n",
              "\n",
              "       audience_rating  diff  \n",
              "0                   53    -4  \n",
              "1                   64    22  \n",
              "2                   53    15  \n",
              "3                   97     3  \n",
              "4                   74    15  \n",
              "...                ...   ...  \n",
              "16633               74   -18  \n",
              "16634               92     5  \n",
              "16635               87    -9  \n",
              "16636               91     4  \n",
              "16637               62    -5  \n",
              "\n",
              "[16386 rows x 4 columns]"
            ],
            "text/html": [
              "\n",
              "  <div id=\"df-2b5e68b5-5e1a-45af-ab06-066882c663e2\" class=\"colab-df-container\">\n",
              "    <div>\n",
              "<style scoped>\n",
              "    .dataframe tbody tr th:only-of-type {\n",
              "        vertical-align: middle;\n",
              "    }\n",
              "\n",
              "    .dataframe tbody tr th {\n",
              "        vertical-align: top;\n",
              "    }\n",
              "\n",
              "    .dataframe thead th {\n",
              "        text-align: right;\n",
              "    }\n",
              "</style>\n",
              "<table border=\"1\" class=\"dataframe\">\n",
              "  <thead>\n",
              "    <tr style=\"text-align: right;\">\n",
              "      <th></th>\n",
              "      <th>movie_title</th>\n",
              "      <th>tomatometer_rating</th>\n",
              "      <th>audience_rating</th>\n",
              "      <th>diff</th>\n",
              "    </tr>\n",
              "  </thead>\n",
              "  <tbody>\n",
              "    <tr>\n",
              "      <th>0</th>\n",
              "      <td>Percy Jackson &amp; the Olympians: The Lightning T...</td>\n",
              "      <td>49</td>\n",
              "      <td>53</td>\n",
              "      <td>-4</td>\n",
              "    </tr>\n",
              "    <tr>\n",
              "      <th>1</th>\n",
              "      <td>Please Give</td>\n",
              "      <td>86</td>\n",
              "      <td>64</td>\n",
              "      <td>22</td>\n",
              "    </tr>\n",
              "    <tr>\n",
              "      <th>2</th>\n",
              "      <td>10</td>\n",
              "      <td>68</td>\n",
              "      <td>53</td>\n",
              "      <td>15</td>\n",
              "    </tr>\n",
              "    <tr>\n",
              "      <th>3</th>\n",
              "      <td>12 Angry Men (Twelve Angry Men)</td>\n",
              "      <td>100</td>\n",
              "      <td>97</td>\n",
              "      <td>3</td>\n",
              "    </tr>\n",
              "    <tr>\n",
              "      <th>4</th>\n",
              "      <td>20,000 Leagues Under The Sea</td>\n",
              "      <td>89</td>\n",
              "      <td>74</td>\n",
              "      <td>15</td>\n",
              "    </tr>\n",
              "    <tr>\n",
              "      <th>...</th>\n",
              "      <td>...</td>\n",
              "      <td>...</td>\n",
              "      <td>...</td>\n",
              "      <td>...</td>\n",
              "    </tr>\n",
              "    <tr>\n",
              "      <th>16633</th>\n",
              "      <td>Zoot Suit</td>\n",
              "      <td>56</td>\n",
              "      <td>74</td>\n",
              "      <td>-18</td>\n",
              "    </tr>\n",
              "    <tr>\n",
              "      <th>16634</th>\n",
              "      <td>Zootopia</td>\n",
              "      <td>97</td>\n",
              "      <td>92</td>\n",
              "      <td>5</td>\n",
              "    </tr>\n",
              "    <tr>\n",
              "      <th>16635</th>\n",
              "      <td>Zorba the Greek</td>\n",
              "      <td>78</td>\n",
              "      <td>87</td>\n",
              "      <td>-9</td>\n",
              "    </tr>\n",
              "    <tr>\n",
              "      <th>16636</th>\n",
              "      <td>Zulu</td>\n",
              "      <td>95</td>\n",
              "      <td>91</td>\n",
              "      <td>4</td>\n",
              "    </tr>\n",
              "    <tr>\n",
              "      <th>16637</th>\n",
              "      <td>Zulu Dawn</td>\n",
              "      <td>57</td>\n",
              "      <td>62</td>\n",
              "      <td>-5</td>\n",
              "    </tr>\n",
              "  </tbody>\n",
              "</table>\n",
              "<p>16386 rows × 4 columns</p>\n",
              "</div>\n",
              "    <div class=\"colab-df-buttons\">\n",
              "\n",
              "  <div class=\"colab-df-container\">\n",
              "    <button class=\"colab-df-convert\" onclick=\"convertToInteractive('df-2b5e68b5-5e1a-45af-ab06-066882c663e2')\"\n",
              "            title=\"Convert this dataframe to an interactive table.\"\n",
              "            style=\"display:none;\">\n",
              "\n",
              "  <svg xmlns=\"http://www.w3.org/2000/svg\" height=\"24px\" viewBox=\"0 -960 960 960\">\n",
              "    <path d=\"M120-120v-720h720v720H120Zm60-500h600v-160H180v160Zm220 220h160v-160H400v160Zm0 220h160v-160H400v160ZM180-400h160v-160H180v160Zm440 0h160v-160H620v160ZM180-180h160v-160H180v160Zm440 0h160v-160H620v160Z\"/>\n",
              "  </svg>\n",
              "    </button>\n",
              "\n",
              "  <style>\n",
              "    .colab-df-container {\n",
              "      display:flex;\n",
              "      gap: 12px;\n",
              "    }\n",
              "\n",
              "    .colab-df-convert {\n",
              "      background-color: #E8F0FE;\n",
              "      border: none;\n",
              "      border-radius: 50%;\n",
              "      cursor: pointer;\n",
              "      display: none;\n",
              "      fill: #1967D2;\n",
              "      height: 32px;\n",
              "      padding: 0 0 0 0;\n",
              "      width: 32px;\n",
              "    }\n",
              "\n",
              "    .colab-df-convert:hover {\n",
              "      background-color: #E2EBFA;\n",
              "      box-shadow: 0px 1px 2px rgba(60, 64, 67, 0.3), 0px 1px 3px 1px rgba(60, 64, 67, 0.15);\n",
              "      fill: #174EA6;\n",
              "    }\n",
              "\n",
              "    .colab-df-buttons div {\n",
              "      margin-bottom: 4px;\n",
              "    }\n",
              "\n",
              "    [theme=dark] .colab-df-convert {\n",
              "      background-color: #3B4455;\n",
              "      fill: #D2E3FC;\n",
              "    }\n",
              "\n",
              "    [theme=dark] .colab-df-convert:hover {\n",
              "      background-color: #434B5C;\n",
              "      box-shadow: 0px 1px 3px 1px rgba(0, 0, 0, 0.15);\n",
              "      filter: drop-shadow(0px 1px 2px rgba(0, 0, 0, 0.3));\n",
              "      fill: #FFFFFF;\n",
              "    }\n",
              "  </style>\n",
              "\n",
              "    <script>\n",
              "      const buttonEl =\n",
              "        document.querySelector('#df-2b5e68b5-5e1a-45af-ab06-066882c663e2 button.colab-df-convert');\n",
              "      buttonEl.style.display =\n",
              "        google.colab.kernel.accessAllowed ? 'block' : 'none';\n",
              "\n",
              "      async function convertToInteractive(key) {\n",
              "        const element = document.querySelector('#df-2b5e68b5-5e1a-45af-ab06-066882c663e2');\n",
              "        const dataTable =\n",
              "          await google.colab.kernel.invokeFunction('convertToInteractive',\n",
              "                                                    [key], {});\n",
              "        if (!dataTable) return;\n",
              "\n",
              "        const docLinkHtml = 'Like what you see? Visit the ' +\n",
              "          '<a target=\"_blank\" href=https://colab.research.google.com/notebooks/data_table.ipynb>data table notebook</a>'\n",
              "          + ' to learn more about interactive tables.';\n",
              "        element.innerHTML = '';\n",
              "        dataTable['output_type'] = 'display_data';\n",
              "        await google.colab.output.renderOutput(dataTable, element);\n",
              "        const docLink = document.createElement('div');\n",
              "        docLink.innerHTML = docLinkHtml;\n",
              "        element.appendChild(docLink);\n",
              "      }\n",
              "    </script>\n",
              "  </div>\n",
              "\n",
              "\n",
              "<div id=\"df-7f0c65b9-caad-4830-834d-18b695fb6372\">\n",
              "  <button class=\"colab-df-quickchart\" onclick=\"quickchart('df-7f0c65b9-caad-4830-834d-18b695fb6372')\"\n",
              "            title=\"Suggest charts\"\n",
              "            style=\"display:none;\">\n",
              "\n",
              "<svg xmlns=\"http://www.w3.org/2000/svg\" height=\"24px\"viewBox=\"0 0 24 24\"\n",
              "     width=\"24px\">\n",
              "    <g>\n",
              "        <path d=\"M19 3H5c-1.1 0-2 .9-2 2v14c0 1.1.9 2 2 2h14c1.1 0 2-.9 2-2V5c0-1.1-.9-2-2-2zM9 17H7v-7h2v7zm4 0h-2V7h2v10zm4 0h-2v-4h2v4z\"/>\n",
              "    </g>\n",
              "</svg>\n",
              "  </button>\n",
              "\n",
              "<style>\n",
              "  .colab-df-quickchart {\n",
              "      --bg-color: #E8F0FE;\n",
              "      --fill-color: #1967D2;\n",
              "      --hover-bg-color: #E2EBFA;\n",
              "      --hover-fill-color: #174EA6;\n",
              "      --disabled-fill-color: #AAA;\n",
              "      --disabled-bg-color: #DDD;\n",
              "  }\n",
              "\n",
              "  [theme=dark] .colab-df-quickchart {\n",
              "      --bg-color: #3B4455;\n",
              "      --fill-color: #D2E3FC;\n",
              "      --hover-bg-color: #434B5C;\n",
              "      --hover-fill-color: #FFFFFF;\n",
              "      --disabled-bg-color: #3B4455;\n",
              "      --disabled-fill-color: #666;\n",
              "  }\n",
              "\n",
              "  .colab-df-quickchart {\n",
              "    background-color: var(--bg-color);\n",
              "    border: none;\n",
              "    border-radius: 50%;\n",
              "    cursor: pointer;\n",
              "    display: none;\n",
              "    fill: var(--fill-color);\n",
              "    height: 32px;\n",
              "    padding: 0;\n",
              "    width: 32px;\n",
              "  }\n",
              "\n",
              "  .colab-df-quickchart:hover {\n",
              "    background-color: var(--hover-bg-color);\n",
              "    box-shadow: 0 1px 2px rgba(60, 64, 67, 0.3), 0 1px 3px 1px rgba(60, 64, 67, 0.15);\n",
              "    fill: var(--button-hover-fill-color);\n",
              "  }\n",
              "\n",
              "  .colab-df-quickchart-complete:disabled,\n",
              "  .colab-df-quickchart-complete:disabled:hover {\n",
              "    background-color: var(--disabled-bg-color);\n",
              "    fill: var(--disabled-fill-color);\n",
              "    box-shadow: none;\n",
              "  }\n",
              "\n",
              "  .colab-df-spinner {\n",
              "    border: 2px solid var(--fill-color);\n",
              "    border-color: transparent;\n",
              "    border-bottom-color: var(--fill-color);\n",
              "    animation:\n",
              "      spin 1s steps(1) infinite;\n",
              "  }\n",
              "\n",
              "  @keyframes spin {\n",
              "    0% {\n",
              "      border-color: transparent;\n",
              "      border-bottom-color: var(--fill-color);\n",
              "      border-left-color: var(--fill-color);\n",
              "    }\n",
              "    20% {\n",
              "      border-color: transparent;\n",
              "      border-left-color: var(--fill-color);\n",
              "      border-top-color: var(--fill-color);\n",
              "    }\n",
              "    30% {\n",
              "      border-color: transparent;\n",
              "      border-left-color: var(--fill-color);\n",
              "      border-top-color: var(--fill-color);\n",
              "      border-right-color: var(--fill-color);\n",
              "    }\n",
              "    40% {\n",
              "      border-color: transparent;\n",
              "      border-right-color: var(--fill-color);\n",
              "      border-top-color: var(--fill-color);\n",
              "    }\n",
              "    60% {\n",
              "      border-color: transparent;\n",
              "      border-right-color: var(--fill-color);\n",
              "    }\n",
              "    80% {\n",
              "      border-color: transparent;\n",
              "      border-right-color: var(--fill-color);\n",
              "      border-bottom-color: var(--fill-color);\n",
              "    }\n",
              "    90% {\n",
              "      border-color: transparent;\n",
              "      border-bottom-color: var(--fill-color);\n",
              "    }\n",
              "  }\n",
              "</style>\n",
              "\n",
              "  <script>\n",
              "    async function quickchart(key) {\n",
              "      const quickchartButtonEl =\n",
              "        document.querySelector('#' + key + ' button');\n",
              "      quickchartButtonEl.disabled = true;  // To prevent multiple clicks.\n",
              "      quickchartButtonEl.classList.add('colab-df-spinner');\n",
              "      try {\n",
              "        const charts = await google.colab.kernel.invokeFunction(\n",
              "            'suggestCharts', [key], {});\n",
              "      } catch (error) {\n",
              "        console.error('Error during call to suggestCharts:', error);\n",
              "      }\n",
              "      quickchartButtonEl.classList.remove('colab-df-spinner');\n",
              "      quickchartButtonEl.classList.add('colab-df-quickchart-complete');\n",
              "    }\n",
              "    (() => {\n",
              "      let quickchartButtonEl =\n",
              "        document.querySelector('#df-7f0c65b9-caad-4830-834d-18b695fb6372 button');\n",
              "      quickchartButtonEl.style.display =\n",
              "        google.colab.kernel.accessAllowed ? 'block' : 'none';\n",
              "    })();\n",
              "  </script>\n",
              "</div>\n",
              "\n",
              "  <div id=\"id_7a0c1fc1-b33e-4995-a96d-cdefb65103e9\">\n",
              "    <style>\n",
              "      .colab-df-generate {\n",
              "        background-color: #E8F0FE;\n",
              "        border: none;\n",
              "        border-radius: 50%;\n",
              "        cursor: pointer;\n",
              "        display: none;\n",
              "        fill: #1967D2;\n",
              "        height: 32px;\n",
              "        padding: 0 0 0 0;\n",
              "        width: 32px;\n",
              "      }\n",
              "\n",
              "      .colab-df-generate:hover {\n",
              "        background-color: #E2EBFA;\n",
              "        box-shadow: 0px 1px 2px rgba(60, 64, 67, 0.3), 0px 1px 3px 1px rgba(60, 64, 67, 0.15);\n",
              "        fill: #174EA6;\n",
              "      }\n",
              "\n",
              "      [theme=dark] .colab-df-generate {\n",
              "        background-color: #3B4455;\n",
              "        fill: #D2E3FC;\n",
              "      }\n",
              "\n",
              "      [theme=dark] .colab-df-generate:hover {\n",
              "        background-color: #434B5C;\n",
              "        box-shadow: 0px 1px 3px 1px rgba(0, 0, 0, 0.15);\n",
              "        filter: drop-shadow(0px 1px 2px rgba(0, 0, 0, 0.3));\n",
              "        fill: #FFFFFF;\n",
              "      }\n",
              "    </style>\n",
              "    <button class=\"colab-df-generate\" onclick=\"generateWithVariable('rt_ratings')\"\n",
              "            title=\"Generate code using this dataframe.\"\n",
              "            style=\"display:none;\">\n",
              "\n",
              "  <svg xmlns=\"http://www.w3.org/2000/svg\" height=\"24px\"viewBox=\"0 0 24 24\"\n",
              "       width=\"24px\">\n",
              "    <path d=\"M7,19H8.4L18.45,9,17,7.55,7,17.6ZM5,21V16.75L18.45,3.32a2,2,0,0,1,2.83,0l1.4,1.43a1.91,1.91,0,0,1,.58,1.4,1.91,1.91,0,0,1-.58,1.4L9.25,21ZM18.45,9,17,7.55Zm-12,3A5.31,5.31,0,0,0,4.9,8.1,5.31,5.31,0,0,0,1,6.5,5.31,5.31,0,0,0,4.9,4.9,5.31,5.31,0,0,0,6.5,1,5.31,5.31,0,0,0,8.1,4.9,5.31,5.31,0,0,0,12,6.5,5.46,5.46,0,0,0,6.5,12Z\"/>\n",
              "  </svg>\n",
              "    </button>\n",
              "    <script>\n",
              "      (() => {\n",
              "      const buttonEl =\n",
              "        document.querySelector('#id_7a0c1fc1-b33e-4995-a96d-cdefb65103e9 button.colab-df-generate');\n",
              "      buttonEl.style.display =\n",
              "        google.colab.kernel.accessAllowed ? 'block' : 'none';\n",
              "\n",
              "      buttonEl.onclick = () => {\n",
              "        google.colab.notebook.generateWithVariable('rt_ratings');\n",
              "      }\n",
              "      })();\n",
              "    </script>\n",
              "  </div>\n",
              "\n",
              "    </div>\n",
              "  </div>\n"
            ],
            "application/vnd.google.colaboratory.intrinsic+json": {
              "type": "dataframe",
              "variable_name": "rt_ratings",
              "summary": "{\n  \"name\": \"rt_ratings\",\n  \"rows\": 16386,\n  \"fields\": [\n    {\n      \"column\": \"movie_title\",\n      \"properties\": {\n        \"dtype\": \"string\",\n        \"num_unique_values\": 15870,\n        \"samples\": [\n          \"Always Shine\",\n          \"Run All Night\",\n          \"Earthquake\"\n        ],\n        \"semantic_type\": \"\",\n        \"description\": \"\"\n      }\n    },\n    {\n      \"column\": \"tomatometer_rating\",\n      \"properties\": {\n        \"dtype\": \"number\",\n        \"std\": 28,\n        \"min\": 0,\n        \"max\": 100,\n        \"num_unique_values\": 101,\n        \"samples\": [\n          95,\n          37,\n          12\n        ],\n        \"semantic_type\": \"\",\n        \"description\": \"\"\n      }\n    },\n    {\n      \"column\": \"audience_rating\",\n      \"properties\": {\n        \"dtype\": \"number\",\n        \"std\": 20,\n        \"min\": 0,\n        \"max\": 100,\n        \"num_unique_values\": 98,\n        \"samples\": [\n          44,\n          55,\n          99\n        ],\n        \"semantic_type\": \"\",\n        \"description\": \"\"\n      }\n    },\n    {\n      \"column\": \"diff\",\n      \"properties\": {\n        \"dtype\": \"number\",\n        \"std\": 21,\n        \"min\": -95,\n        \"max\": 86,\n        \"num_unique_values\": 162,\n        \"samples\": [\n          67,\n          48,\n          58\n        ],\n        \"semantic_type\": \"\",\n        \"description\": \"\"\n      }\n    }\n  ]\n}"
            }
          },
          "metadata": {},
          "execution_count": 9
        }
      ],
      "source": [
        "rt_ratings['diff'] = rt_ratings['tomatometer_rating'] - rt_ratings['audience_rating']\n",
        "rt_ratings"
      ]
    },
    {
      "cell_type": "code",
      "execution_count": 10,
      "metadata": {
        "id": "58M4l2j0KjdH"
      },
      "outputs": [],
      "source": [
        "from collections import OrderedDict\n",
        "\n",
        "def calc_perc(df, df2):\n",
        "    \"\"\"\n",
        "    Takes in a dataframe and calculates the percentage of that dataframe compared to a larger dataframe\n",
        "\n",
        "    Input:\n",
        "    df - a dataframe\n",
        "    df2 - a dataframe\n",
        "\n",
        "    Output:\n",
        "    the ratio of length between df and df2, mulpulied by 100.\n",
        "    \"\"\"\n",
        "    return (len(df) / len(df2)) * 100\n",
        "\n",
        "def split_df_in3(df):\n",
        "    '''\n",
        "    splits the dataframe into 3 smaller dataframes, where the 'diff' values of the dataframe are negative,\n",
        "    positive and equal\n",
        "\n",
        "    input:\n",
        "    df - dataframe to be split\n",
        "\n",
        "    output:\n",
        "    a - dataframe where 'diff' < 0\n",
        "    b - dataframe where 'diff' > 0\n",
        "    c - dataframe where 'diff' == 0\n",
        "    '''\n",
        "    a = df[df['diff'] < 0]\n",
        "    b = df[df['diff'] > 0]\n",
        "    c = df[df['diff'] == 0]\n",
        "    return a, b, c\n",
        "\n",
        "\n",
        "def stacked_bar(dic):\n",
        "    '''\n",
        "    Takes in a dictionary of proportions as keys paired a description as values and produces a stacked barchart.\n",
        "\n",
        "    Input:\n",
        "    dic - Dictionary with key = score, and value = string\n",
        "\n",
        "    Ouptut:\n",
        "    Plots a stacked barchart\n",
        "    '''\n",
        "    a, b, c = dic.keys()\n",
        "    diff_df = pd.DataFrame({f\"{a:.2f}%: \" + dic[a] : [a],\n",
        "                        f\"{b:.2f}%: \" + dic[b]: [b] ,\n",
        "                        f\"{c:.2f}%: \" + dic[c] : [c]},\n",
        "                      index=[''])\n",
        "\n",
        "    diff_df.plot(kind='barh', stacked=True, color=['tab:red', 'tab:green', 'tab:orange'])\n",
        "    sns.despine(left=True, bottom=True)\n",
        "    plt.legend(loc='upper center')\n",
        "    plt.show()\n"
      ]
    },
    {
      "cell_type": "code",
      "execution_count": 11,
      "metadata": {
        "id": "0mAWXWVzKjdH",
        "outputId": "b71d950e-d7a8-4e7f-832a-522b593402e8",
        "colab": {
          "base_uri": "https://localhost:8080/",
          "height": 830
        }
      },
      "outputs": [
        {
          "output_type": "display_data",
          "data": {
            "text/plain": [
              "<Figure size 1400x1000 with 1 Axes>"
            ],
            "image/png": "[encoded data removed]"
          },
          "metadata": {}
        }
      ],
      "source": [
        "RT_df_lst = split_df_in3(rt_ratings)\n",
        "\n",
        "# Finding the percentage of rt_ratings that 'diff' is negative, positive and equal to 0\n",
        "RT_audience_score, RT_critics_score, critics_audience_agreed_score = [calc_perc(df=i, df2=rt_ratings)\n",
        "                                                                         for i in RT_df_lst]\n",
        "\n",
        "RT_crit_aud_dict = OrderedDict([\n",
        "                                (RT_critics_score, \"Critics are more critical\"),\n",
        "                                (RT_audience_score, \"Audience are more critical\"),\n",
        "                                (critics_audience_agreed_score, \"Critics and Audience agree\")\n",
        "                                ])\n",
        "\n",
        "stacked_bar(RT_crit_aud_dict)"
      ]
    },
    {
      "cell_type": "markdown",
      "metadata": {
        "id": "4CjNdeY_KjdH"
      },
      "source": [
        "Not suprisingly the critics are more critical than the audience. Though the difference is not as stark as I would have thought it would be. It also seems that the critics and the audience perfectly agree a very small amount of the time. The distribution of the difference is a little less black and white then what is displayed in the stacked barchart. We can use a histogram to see if the critics and the audience somewhat agree overall by looking at the distribution of this relative difference between the scores."
      ]
    },
    {
      "cell_type": "markdown",
      "metadata": {
        "id": "-zAeySHhKjdI"
      },
      "source": [
        "### Histogram of relative differences"
      ]
    },
    {
      "cell_type": "code",
      "execution_count": 12,
      "metadata": {
        "id": "GAG32tu-KjdI",
        "outputId": "68b07fdc-5de9-49b7-f83a-1586c3dd4967",
        "colab": {
          "base_uri": "https://localhost:8080/",
          "height": 878
        }
      },
      "outputs": [
        {
          "output_type": "display_data",
          "data": {
            "text/plain": [
              "<Figure size 1400x1000 with 1 Axes>"
            ],
            "image/png": "[encoded data removed]"
          },
          "metadata": {}
        }
      ],
      "source": [
        "# distribution of the audience score\n",
        "distribution_plot(rt_ratings['diff'],\n",
        "                  title='Relative Difference Distribution',\n",
        "                  bar_color='tab:purple',\n",
        "                  x_label='Relative Difference Score')"
      ]
    },
    {
      "cell_type": "markdown",
      "metadata": {
        "id": "i2kgJJmBKjdI"
      },
      "source": [
        "This distribution tends toward a normal distribution, where the audience and critcs tend to agree more often. The peak of the distribution is between 0 and 12. There is a secondary pattern I can see in the distribution, almost like an interference pattern, though I cannot figure out where that has come from."
      ]
    },
    {
      "cell_type": "markdown",
      "metadata": {
        "id": "cj_fJDg4KjdI"
      },
      "source": [
        "# Conclusion\n",
        "\n",
        "From this analysis of tomatometer scores and audience score we can say that there was more consensus between the audience compared to the critics in general. We found using a t-test that the difference in the means was not statistically significant. However I am not sure how valid the t-test was because the audience scores do have a somewhat normal distribution, but the critics scores do not. We also had a look at the relative difference between the two sets of scores for the movies, and found that in general the critics are more critical. Looking at the distribution of the relative difference between the scores, we can see that the distribution is quite normal, signifying some consensus between the critics and the audience."
      ]
    },
    {
      "cell_type": "markdown",
      "metadata": {
        "id": "qrTrDTNBKjdJ"
      },
      "source": [
        "# References\n",
        "\n",
        "[1] https://medium.com/python-in-plain-english/statistical-tests-with-python-880251e9b572 - To figure out what statisitcal test to do. Very helpful flowchart of statistical tests."
      ]
    }
  ],
  "metadata": {
    "kernelspec": {
      "display_name": "Python 3",
      "language": "python",
      "name": "python3"
    },
    "language_info": {
      "codemirror_mode": {
        "name": "ipython",
        "version": 3
      },
      "file_extension": ".py",
      "mimetype": "text/x-python",
      "name": "python",
      "nbconvert_exporter": "python",
      "pygments_lexer": "ipython3",
      "version": "3.7.8"
    },
    "toc": {
      "base_numbering": 1,
      "nav_menu": {},
      "number_sections": true,
      "sideBar": true,
      "skip_h1_title": false,
      "title_cell": "Table of Contents",
      "title_sidebar": "Contents",
      "toc_cell": false,
      "toc_position": {},
      "toc_section_display": true,
      "toc_window_display": false
    },
    "colab": {
      "provenance": [],
      "include_colab_link": true
    }
  },
  "nbformat": 4,
  "nbformat_minor": 0
}